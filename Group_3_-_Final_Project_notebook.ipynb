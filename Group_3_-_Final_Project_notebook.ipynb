{
 "cells": [
  {
   "cell_type": "markdown",
   "id": "f7efe8d8",
   "metadata": {},
   "source": [
    "# Repeat Buyers Prediction for E-Commerce\n",
    "\n",
    "### Problem Statement\n",
    "Merchants often gain many new customers through promotions, but a significant portion of these customers are only interested in one-time deals. Therefore, the impact of promotions on long-term sales may be limited. To maximize return on investment (ROI) and reduce promotion costs, it is crucial for merchants to distinguish between one-time buyers and potential loyal customers and focus their efforts on converting the latter group.\n",
    "\n",
    "In this project, you are provided a dataset with information on promotional shopping event from e-commerce platform. Your task is to design a system which will increase the ROI (in other words, you need to predict the probability that these new buyers would purchase items from the same merchants again within 6 months), reduce promotional cost, and identify one-time buyers. "
   ]
  },
  {
   "cell_type": "code",
   "execution_count": 1,
   "id": "ddebad75",
   "metadata": {},
   "outputs": [],
   "source": [
    "import pandas as pd\n",
    "import matplotlib.pyplot as plt\n",
    "import seaborn as sns\n",
    "\n",
    "user_logs = pd.read_csv('Dataset/user_log.csv')\n",
    "user_profile = pd.read_csv('Dataset/user_info.csv')\n",
    "train_df = pd.read_csv('Dataset/train.csv')\n",
    "test_df = pd.read_csv('Dataset/test.csv')"
   ]
  },
  {
   "cell_type": "code",
   "execution_count": 2,
   "id": "7f11b46f",
   "metadata": {},
   "outputs": [
    {
     "data": {
      "text/html": [
       "<div>\n",
       "<style scoped>\n",
       "    .dataframe tbody tr th:only-of-type {\n",
       "        vertical-align: middle;\n",
       "    }\n",
       "\n",
       "    .dataframe tbody tr th {\n",
       "        vertical-align: top;\n",
       "    }\n",
       "\n",
       "    .dataframe thead th {\n",
       "        text-align: right;\n",
       "    }\n",
       "</style>\n",
       "<table border=\"1\" class=\"dataframe\">\n",
       "  <thead>\n",
       "    <tr style=\"text-align: right;\">\n",
       "      <th></th>\n",
       "      <th>user_id</th>\n",
       "      <th>item_id</th>\n",
       "      <th>cat_id</th>\n",
       "      <th>seller_id</th>\n",
       "      <th>brand_id</th>\n",
       "      <th>time_stamp</th>\n",
       "      <th>action_type</th>\n",
       "    </tr>\n",
       "  </thead>\n",
       "  <tbody>\n",
       "    <tr>\n",
       "      <th>0</th>\n",
       "      <td>219316</td>\n",
       "      <td>472</td>\n",
       "      <td>737</td>\n",
       "      <td>801</td>\n",
       "      <td>5890.0</td>\n",
       "      <td>1018</td>\n",
       "      <td>0</td>\n",
       "    </tr>\n",
       "    <tr>\n",
       "      <th>1</th>\n",
       "      <td>69247</td>\n",
       "      <td>471</td>\n",
       "      <td>1266</td>\n",
       "      <td>4614</td>\n",
       "      <td>4331.0</td>\n",
       "      <td>619</td>\n",
       "      <td>2</td>\n",
       "    </tr>\n",
       "    <tr>\n",
       "      <th>2</th>\n",
       "      <td>69247</td>\n",
       "      <td>471</td>\n",
       "      <td>1266</td>\n",
       "      <td>4614</td>\n",
       "      <td>4331.0</td>\n",
       "      <td>619</td>\n",
       "      <td>0</td>\n",
       "    </tr>\n",
       "    <tr>\n",
       "      <th>3</th>\n",
       "      <td>216952</td>\n",
       "      <td>352</td>\n",
       "      <td>991</td>\n",
       "      <td>3527</td>\n",
       "      <td>869.0</td>\n",
       "      <td>626</td>\n",
       "      <td>0</td>\n",
       "    </tr>\n",
       "    <tr>\n",
       "      <th>4</th>\n",
       "      <td>216952</td>\n",
       "      <td>352</td>\n",
       "      <td>991</td>\n",
       "      <td>3527</td>\n",
       "      <td>869.0</td>\n",
       "      <td>626</td>\n",
       "      <td>0</td>\n",
       "    </tr>\n",
       "  </tbody>\n",
       "</table>\n",
       "</div>"
      ],
      "text/plain": [
       "   user_id  item_id  cat_id  seller_id  brand_id  time_stamp  action_type\n",
       "0   219316      472     737        801    5890.0        1018            0\n",
       "1    69247      471    1266       4614    4331.0         619            2\n",
       "2    69247      471    1266       4614    4331.0         619            0\n",
       "3   216952      352     991       3527     869.0         626            0\n",
       "4   216952      352     991       3527     869.0         626            0"
      ]
     },
     "execution_count": 2,
     "metadata": {},
     "output_type": "execute_result"
    }
   ],
   "source": [
    "user_logs.head()"
   ]
  },
  {
   "cell_type": "code",
   "execution_count": 3,
   "id": "57aa907a",
   "metadata": {},
   "outputs": [
    {
     "name": "stdout",
     "output_type": "stream",
     "text": [
      "maximum item id :480\n",
      "minimum item id :321\n"
     ]
    }
   ],
   "source": [
    "#user_logs contains all the data from item id: 321 -480\n",
    "print(\"maximum item id :\" + str(user_logs['item_id'].max()))\n",
    "print(\"minimum item id :\" + str(user_logs['item_id'].min()))"
   ]
  },
  {
   "cell_type": "code",
   "execution_count": 4,
   "id": "1baccac6",
   "metadata": {},
   "outputs": [
    {
     "data": {
      "text/plain": [
       "(7402, 7)"
      ]
     },
     "execution_count": 4,
     "metadata": {},
     "output_type": "execute_result"
    }
   ],
   "source": [
    "#size of user logs dataset\n",
    "user_logs.shape"
   ]
  },
  {
   "cell_type": "code",
   "execution_count": 5,
   "id": "8c984e54",
   "metadata": {},
   "outputs": [
    {
     "data": {
      "text/plain": [
       "2033"
      ]
     },
     "execution_count": 5,
     "metadata": {},
     "output_type": "execute_result"
    }
   ],
   "source": [
    "#Duplicate records found in userlog dataset\n",
    "user_logs.duplicated().sum()"
   ]
  },
  {
   "cell_type": "markdown",
   "id": "ac7f3769",
   "metadata": {},
   "source": [
    "# Data Visualization\n",
    "\n",
    "4 Data Frames \n",
    "\n",
    "**User Behavior**, with 6 columns, *user_id*: a unique id for the shopper, *item_id*: a unique id for the item, *cat_id*, a unique id for the category that the item belongs to, *merchant_id*: a unique id for the merchant, *brand_id*: a unique id for the brand of the item, *time_stamp*: date the action took place (format: mmdd), and *action_type*: it is an enumerated type {0, 1, 2, 3}, where 0 is for click, 1 is for add-to-cart, 2 is for purchase and 3 is for add-to-favorite. \n",
    "\n",
    "**User Profile**, with 3 columns, *user_id*: a unique id for the shopper, *age_range*: user's age range, 1 for younger than 18, 2 for 18-24, 3 for 25-29, 4 for 30-34, 5 for 35-39, 6 for 40-49, 7 and 8 for older than 50, and 0 and Null for unknown, and *gender*: user's gender, 0 for female, 1 for male, and 2 for Null or unknown. \n",
    "\n",
    "**Training and Testing**, *user_id*: a unique id for the shopper, *merchant_id*: a unqiue id for the merchant, and *label*: it is an enumerated type{0, 1}, where 1 means repeat buyer, 0 is for non-repeat buyer. This field is blank for test data.\n",
    "\n",
    "### Bar Charts"
   ]
  },
  {
   "cell_type": "code",
   "execution_count": 6,
   "id": "3fe806b2",
   "metadata": {},
   "outputs": [
    {
     "data": {
      "image/png": "[encoded data removed]",
      "text/plain": [
       "<Figure size 1000x500 with 1 Axes>"
      ]
     },
     "metadata": {},
     "output_type": "display_data"
    }
   ],
   "source": [
    "plt.figure(figsize=(10, 5))\n",
    "sns.countplot(x='age_range', hue='gender', data=user_profile)\n",
    "plt.title('Distribution of Age Range and Gender')\n",
    "plt.xlabel('Age Range')\n",
    "plt.ylabel('Count')\n",
    "plt.legend(['Female', 'Male', 'Unknown'])\n",
    "plt.xticks([0, 1, 2, 3, 4, 5, 6, 7, 8], [\"Unknown\", \" <18 \", \"[18,24]\", \"[25,29]\", \"[30,34]\", \"[35,39]\", \"[40,49]\", \">= 50\", \">= 50\"])\n",
    "plt.show()"
   ]
  },
  {
   "cell_type": "code",
   "execution_count": 7,
   "id": "549dbcc1",
   "metadata": {},
   "outputs": [
    {
     "data": {
      "image/png": "[encoded data removed]",
      "text/plain": [
       "<Figure size 1000x500 with 1 Axes>"
      ]
     },
     "metadata": {},
     "output_type": "display_data"
    }
   ],
   "source": [
    "plt.figure(figsize=(10, 5))\n",
    "sns.countplot(x='action_type', data=user_logs)\n",
    "plt.title('Distribution of Action Types')\n",
    "plt.xlabel('Action Type')\n",
    "plt.ylabel('Count')\n",
    "plt.xticks([0, 1, 2, 3], ['Click', 'Add to Cart', 'Purchase', 'Add to Favourite'])\n",
    "plt.show()"
   ]
  },
  {
   "cell_type": "code",
   "execution_count": 8,
   "id": "323ac3ca",
   "metadata": {},
   "outputs": [
    {
     "data": {
      "image/png": "[encoded data removed]",
      "text/plain": [
       "<Figure size 500x500 with 1 Axes>"
      ]
     },
     "metadata": {},
     "output_type": "display_data"
    }
   ],
   "source": [
    "plt.figure(figsize=(5, 5))\n",
    "sns.countplot(x='label', data=train_df)\n",
    "plt.title('Distribution of Repeat and Non-repeat Buyers')\n",
    "plt.xlabel('Label')\n",
    "plt.ylabel('Count')\n",
    "plt.xticks([0, 1], ['Non-repeat Buyer', 'Repeat Buyer'])\n",
    "plt.show()"
   ]
  },
  {
   "cell_type": "code",
   "execution_count": 9,
   "id": "67d2456d",
   "metadata": {},
   "outputs": [
    {
     "data": {
      "text/html": [
       "<div>\n",
       "<style scoped>\n",
       "    .dataframe tbody tr th:only-of-type {\n",
       "        vertical-align: middle;\n",
       "    }\n",
       "\n",
       "    .dataframe tbody tr th {\n",
       "        vertical-align: top;\n",
       "    }\n",
       "\n",
       "    .dataframe thead th {\n",
       "        text-align: right;\n",
       "    }\n",
       "</style>\n",
       "<table border=\"1\" class=\"dataframe\">\n",
       "  <thead>\n",
       "    <tr style=\"text-align: right;\">\n",
       "      <th></th>\n",
       "      <th>user_id</th>\n",
       "      <th>item_id</th>\n",
       "      <th>cat_id</th>\n",
       "      <th>seller_id</th>\n",
       "      <th>brand_id</th>\n",
       "      <th>time_stamp</th>\n",
       "      <th>action_type</th>\n",
       "      <th>age_range</th>\n",
       "      <th>gender</th>\n",
       "    </tr>\n",
       "  </thead>\n",
       "  <tbody>\n",
       "    <tr>\n",
       "      <th>0</th>\n",
       "      <td>219316</td>\n",
       "      <td>472</td>\n",
       "      <td>737</td>\n",
       "      <td>801</td>\n",
       "      <td>5890.0</td>\n",
       "      <td>1018</td>\n",
       "      <td>0</td>\n",
       "      <td>4.0</td>\n",
       "      <td>0.0</td>\n",
       "    </tr>\n",
       "    <tr>\n",
       "      <th>1</th>\n",
       "      <td>69247</td>\n",
       "      <td>471</td>\n",
       "      <td>1266</td>\n",
       "      <td>4614</td>\n",
       "      <td>4331.0</td>\n",
       "      <td>619</td>\n",
       "      <td>2</td>\n",
       "      <td>4.0</td>\n",
       "      <td>1.0</td>\n",
       "    </tr>\n",
       "    <tr>\n",
       "      <th>2</th>\n",
       "      <td>69247</td>\n",
       "      <td>471</td>\n",
       "      <td>1266</td>\n",
       "      <td>4614</td>\n",
       "      <td>4331.0</td>\n",
       "      <td>619</td>\n",
       "      <td>0</td>\n",
       "      <td>4.0</td>\n",
       "      <td>1.0</td>\n",
       "    </tr>\n",
       "    <tr>\n",
       "      <th>3</th>\n",
       "      <td>216952</td>\n",
       "      <td>352</td>\n",
       "      <td>991</td>\n",
       "      <td>3527</td>\n",
       "      <td>869.0</td>\n",
       "      <td>626</td>\n",
       "      <td>0</td>\n",
       "      <td>5.0</td>\n",
       "      <td>2.0</td>\n",
       "    </tr>\n",
       "    <tr>\n",
       "      <th>4</th>\n",
       "      <td>216952</td>\n",
       "      <td>352</td>\n",
       "      <td>991</td>\n",
       "      <td>3527</td>\n",
       "      <td>869.0</td>\n",
       "      <td>626</td>\n",
       "      <td>0</td>\n",
       "      <td>5.0</td>\n",
       "      <td>2.0</td>\n",
       "    </tr>\n",
       "  </tbody>\n",
       "</table>\n",
       "</div>"
      ],
      "text/plain": [
       "   user_id  item_id  cat_id  seller_id  brand_id  time_stamp  action_type  \\\n",
       "0   219316      472     737        801    5890.0        1018            0   \n",
       "1    69247      471    1266       4614    4331.0         619            2   \n",
       "2    69247      471    1266       4614    4331.0         619            0   \n",
       "3   216952      352     991       3527     869.0         626            0   \n",
       "4   216952      352     991       3527     869.0         626            0   \n",
       "\n",
       "   age_range  gender  \n",
       "0        4.0     0.0  \n",
       "1        4.0     1.0  \n",
       "2        4.0     1.0  \n",
       "3        5.0     2.0  \n",
       "4        5.0     2.0  "
      ]
     },
     "execution_count": 9,
     "metadata": {},
     "output_type": "execute_result"
    }
   ],
   "source": [
    "merged_data = pd.merge(user_logs, user_profile, on='user_id', how='left')\n",
    "merged_data.head()"
   ]
  },
  {
   "cell_type": "code",
   "execution_count": 10,
   "id": "1aa09221",
   "metadata": {},
   "outputs": [
    {
     "data": {
      "image/png": "[encoded data removed]",
      "text/plain": [
       "<Figure size 640x480 with 1 Axes>"
      ]
     },
     "metadata": {},
     "output_type": "display_data"
    }
   ],
   "source": [
    "action_counts = merged_data['action_type'].value_counts()\n",
    "plt.pie(action_counts, labels=action_counts.index, autopct='%1.1f%%', startangle=90)\n",
    "plt.axis('equal')\n",
    "plt.title(\"Action Types Distribution\")\n",
    "plt.xticks([0, 1, 2, 3], ['Click', 'Add to Cart', 'Purchase', 'Add to Favourite'])\n",
    "plt.show()"
   ]
  },
  {
   "cell_type": "code",
   "execution_count": 11,
   "id": "f21579fa",
   "metadata": {},
   "outputs": [
    {
     "data": {
      "image/png": "[encoded data removed]",
      "text/plain": [
       "<Figure size 1000x600 with 1 Axes>"
      ]
     },
     "metadata": {},
     "output_type": "display_data"
    }
   ],
   "source": [
    "plt.figure(figsize=(10, 6))\n",
    "sns.violinplot(x='action_type', y='age_range', data=merged_data)\n",
    "plt.xticks([0, 1, 2, 3], ['Click', 'Add to Cart', 'Purchase', 'Add to Favourite'])\n",
    "plt.yticks([0, 1, 2, 3, 4, 5, 6, 7, 8], [\"Unknown\", \" <18 \", \"[18,24]\", \"[25,29]\", \"[30,34]\", \"[35,39]\", \"[40,49]\", \">= 50\", \">= 50\"])\n",
    "plt.title(\"Age Range Distribution by Action Type\")\n",
    "plt.show()"
   ]
  },
  {
   "cell_type": "code",
   "execution_count": 12,
   "id": "6fee5e35",
   "metadata": {},
   "outputs": [
    {
     "data": {
      "image/png": "[encoded data removed]",
      "text/plain": [
       "<Figure size 640x480 with 2 Axes>"
      ]
     },
     "metadata": {},
     "output_type": "display_data"
    }
   ],
   "source": [
    "age_gender_action = merged_data.groupby(['age_range', 'gender', 'action_type']).size().unstack()\n",
    "age_gender_action.fillna(0, inplace=True)\n",
    "\n",
    "# Normalize the data\n",
    "age_gender_action = age_gender_action.div(age_gender_action.sum(axis=1), axis=0)\n",
    "\n",
    "sns.heatmap(age_gender_action, annot=True, cmap='coolwarm')\n",
    "plt.title(\"Action Type Frequency by Age Range and Gender\")\n",
    "plt.show()"
   ]
  },
  {
   "cell_type": "markdown",
   "id": "03a33767",
   "metadata": {},
   "source": [
    "# Feature engineering "
   ]
  },
  {
   "cell_type": "markdown",
   "id": "f060e431",
   "metadata": {},
   "source": [
    "# Dataset statistics and feature ranking"
   ]
  },
  {
   "cell_type": "code",
   "execution_count": 13,
   "id": "641ebebf",
   "metadata": {},
   "outputs": [
    {
     "data": {
      "text/plain": [
       "0"
      ]
     },
     "execution_count": 13,
     "metadata": {},
     "output_type": "execute_result"
    }
   ],
   "source": [
    "# There are no duplicate records for action type ==3\n",
    "user_logs2=user_logs[user_logs['action_type']==3]\n",
    "user_logs2.duplicated().sum()"
   ]
  },
  {
   "cell_type": "code",
   "execution_count": 14,
   "id": "2c24a683",
   "metadata": {},
   "outputs": [
    {
     "data": {
      "text/html": [
       "<div>\n",
       "<style scoped>\n",
       "    .dataframe tbody tr th:only-of-type {\n",
       "        vertical-align: middle;\n",
       "    }\n",
       "\n",
       "    .dataframe tbody tr th {\n",
       "        vertical-align: top;\n",
       "    }\n",
       "\n",
       "    .dataframe thead th {\n",
       "        text-align: right;\n",
       "    }\n",
       "</style>\n",
       "<table border=\"1\" class=\"dataframe\">\n",
       "  <thead>\n",
       "    <tr style=\"text-align: right;\">\n",
       "      <th></th>\n",
       "      <th>seller_id</th>\n",
       "      <th>0</th>\n",
       "    </tr>\n",
       "  </thead>\n",
       "  <tbody>\n",
       "    <tr>\n",
       "      <th>0</th>\n",
       "      <td>20</td>\n",
       "      <td>3</td>\n",
       "    </tr>\n",
       "    <tr>\n",
       "      <th>1</th>\n",
       "      <td>28</td>\n",
       "      <td>15</td>\n",
       "    </tr>\n",
       "    <tr>\n",
       "      <th>2</th>\n",
       "      <td>59</td>\n",
       "      <td>1</td>\n",
       "    </tr>\n",
       "    <tr>\n",
       "      <th>3</th>\n",
       "      <td>99</td>\n",
       "      <td>1</td>\n",
       "    </tr>\n",
       "    <tr>\n",
       "      <th>4</th>\n",
       "      <td>121</td>\n",
       "      <td>12</td>\n",
       "    </tr>\n",
       "    <tr>\n",
       "      <th>...</th>\n",
       "      <td>...</td>\n",
       "      <td>...</td>\n",
       "    </tr>\n",
       "    <tr>\n",
       "      <th>141</th>\n",
       "      <td>4769</td>\n",
       "      <td>4</td>\n",
       "    </tr>\n",
       "    <tr>\n",
       "      <th>142</th>\n",
       "      <td>4790</td>\n",
       "      <td>14</td>\n",
       "    </tr>\n",
       "    <tr>\n",
       "      <th>143</th>\n",
       "      <td>4801</td>\n",
       "      <td>65</td>\n",
       "    </tr>\n",
       "    <tr>\n",
       "      <th>144</th>\n",
       "      <td>4834</td>\n",
       "      <td>60</td>\n",
       "    </tr>\n",
       "    <tr>\n",
       "      <th>145</th>\n",
       "      <td>4964</td>\n",
       "      <td>5</td>\n",
       "    </tr>\n",
       "  </tbody>\n",
       "</table>\n",
       "<p>146 rows × 2 columns</p>\n",
       "</div>"
      ],
      "text/plain": [
       "     seller_id   0\n",
       "0           20   3\n",
       "1           28  15\n",
       "2           59   1\n",
       "3           99   1\n",
       "4          121  12\n",
       "..         ...  ..\n",
       "141       4769   4\n",
       "142       4790  14\n",
       "143       4801  65\n",
       "144       4834  60\n",
       "145       4964   5\n",
       "\n",
       "[146 rows x 2 columns]"
      ]
     },
     "execution_count": 14,
     "metadata": {},
     "output_type": "execute_result"
    }
   ],
   "source": [
    "#Grouping by seller_id\n",
    "user_logs.groupby('seller_id').size().to_frame().reset_index()"
   ]
  },
  {
   "cell_type": "code",
   "execution_count": 15,
   "id": "77de9b92",
   "metadata": {},
   "outputs": [
    {
     "name": "stdout",
     "output_type": "stream",
     "text": [
      "Most popular seller Id : 801\n",
      "count: 2468\n"
     ]
    }
   ],
   "source": [
    "#Seller_id which is popular i.e widely reacheable to the  people\n",
    "seller_bygroup=user_logs.groupby('seller_id').size()\n",
    "print(\"Most popular seller Id : \"+ str(seller_bygroup.idxmax()))\n",
    "print(\"count: \"+str(seller_bygroup.max()))"
   ]
  },
  {
   "cell_type": "code",
   "execution_count": 16,
   "id": "20bb8ba5",
   "metadata": {},
   "outputs": [
    {
     "name": "stdout",
     "output_type": "stream",
     "text": [
      "Least popular seller Id : 59\n",
      "count : 1\n"
     ]
    }
   ],
   "source": [
    "#Seller_id which is least popular\n",
    "print(\"Least popular seller Id : \"+ str(seller_bygroup.idxmin()))\n",
    "print(\"count : \"+str(seller_bygroup.min()))"
   ]
  },
  {
   "cell_type": "code",
   "execution_count": 17,
   "id": "1b472b07",
   "metadata": {},
   "outputs": [
    {
     "name": "stdout",
     "output_type": "stream",
     "text": [
      "Seller Id who has most bought products: 801\n",
      "count: 290\n"
     ]
    }
   ],
   "source": [
    "# seller id whose products is brought maximum by the users\n",
    "purchased_df=user_logs[user_logs['action_type']==2]\n",
    "purchased_seller_bygroup=purchased_df.groupby('seller_id').size()\n",
    "print(\"Seller Id who has most bought products: \"+ str(purchased_seller_bygroup.idxmax()))\n",
    "print(\"count: \"+str(purchased_seller_bygroup.max()))\n"
   ]
  },
  {
   "cell_type": "code",
   "execution_count": 18,
   "id": "b3c75ac5",
   "metadata": {},
   "outputs": [
    {
     "data": {
      "text/html": [
       "<div>\n",
       "<style scoped>\n",
       "    .dataframe tbody tr th:only-of-type {\n",
       "        vertical-align: middle;\n",
       "    }\n",
       "\n",
       "    .dataframe tbody tr th {\n",
       "        vertical-align: top;\n",
       "    }\n",
       "\n",
       "    .dataframe thead th {\n",
       "        text-align: right;\n",
       "    }\n",
       "</style>\n",
       "<table border=\"1\" class=\"dataframe\">\n",
       "  <thead>\n",
       "    <tr style=\"text-align: right;\">\n",
       "      <th></th>\n",
       "      <th>action_type</th>\n",
       "      <th>0</th>\n",
       "    </tr>\n",
       "  </thead>\n",
       "  <tbody>\n",
       "    <tr>\n",
       "      <th>0</th>\n",
       "      <td>0</td>\n",
       "      <td>6385</td>\n",
       "    </tr>\n",
       "    <tr>\n",
       "      <th>1</th>\n",
       "      <td>1</td>\n",
       "      <td>9</td>\n",
       "    </tr>\n",
       "    <tr>\n",
       "      <th>2</th>\n",
       "      <td>2</td>\n",
       "      <td>579</td>\n",
       "    </tr>\n",
       "    <tr>\n",
       "      <th>3</th>\n",
       "      <td>3</td>\n",
       "      <td>429</td>\n",
       "    </tr>\n",
       "  </tbody>\n",
       "</table>\n",
       "</div>"
      ],
      "text/plain": [
       "   action_type     0\n",
       "0            0  6385\n",
       "1            1     9\n",
       "2            2   579\n",
       "3            3   429"
      ]
     },
     "execution_count": 18,
     "metadata": {},
     "output_type": "execute_result"
    }
   ],
   "source": [
    "#Grouping dataset by action type - (0 :click, 1 :add-to-cart, 2 :purchase, 3 :add-to-favourite)\n",
    "user_logs.groupby('action_type').size().to_frame().reset_index()"
   ]
  },
  {
   "cell_type": "code",
   "execution_count": 19,
   "id": "a21f1290",
   "metadata": {},
   "outputs": [
    {
     "data": {
      "text/html": [
       "<div>\n",
       "<style scoped>\n",
       "    .dataframe tbody tr th:only-of-type {\n",
       "        vertical-align: middle;\n",
       "    }\n",
       "\n",
       "    .dataframe tbody tr th {\n",
       "        vertical-align: top;\n",
       "    }\n",
       "\n",
       "    .dataframe thead th {\n",
       "        text-align: right;\n",
       "    }\n",
       "</style>\n",
       "<table border=\"1\" class=\"dataframe\">\n",
       "  <thead>\n",
       "    <tr style=\"text-align: right;\">\n",
       "      <th></th>\n",
       "      <th>user_id</th>\n",
       "      <th>item_id</th>\n",
       "      <th>cat_id</th>\n",
       "      <th>seller_id</th>\n",
       "      <th>brand_id</th>\n",
       "      <th>time_stamp</th>\n",
       "      <th>action_type</th>\n",
       "    </tr>\n",
       "  </thead>\n",
       "  <tbody>\n",
       "    <tr>\n",
       "      <th>201</th>\n",
       "      <td>313304</td>\n",
       "      <td>368</td>\n",
       "      <td>1611</td>\n",
       "      <td>1816</td>\n",
       "      <td>NaN</td>\n",
       "      <td>1110</td>\n",
       "      <td>1</td>\n",
       "    </tr>\n",
       "    <tr>\n",
       "      <th>552</th>\n",
       "      <td>310350</td>\n",
       "      <td>350</td>\n",
       "      <td>905</td>\n",
       "      <td>2193</td>\n",
       "      <td>NaN</td>\n",
       "      <td>1024</td>\n",
       "      <td>1</td>\n",
       "    </tr>\n",
       "    <tr>\n",
       "      <th>962</th>\n",
       "      <td>116100</td>\n",
       "      <td>472</td>\n",
       "      <td>737</td>\n",
       "      <td>801</td>\n",
       "      <td>NaN</td>\n",
       "      <td>923</td>\n",
       "      <td>1</td>\n",
       "    </tr>\n",
       "    <tr>\n",
       "      <th>1369</th>\n",
       "      <td>356593</td>\n",
       "      <td>323</td>\n",
       "      <td>1397</td>\n",
       "      <td>3677</td>\n",
       "      <td>NaN</td>\n",
       "      <td>1012</td>\n",
       "      <td>1</td>\n",
       "    </tr>\n",
       "    <tr>\n",
       "      <th>2860</th>\n",
       "      <td>222010</td>\n",
       "      <td>371</td>\n",
       "      <td>664</td>\n",
       "      <td>962</td>\n",
       "      <td>NaN</td>\n",
       "      <td>1111</td>\n",
       "      <td>1</td>\n",
       "    </tr>\n",
       "    <tr>\n",
       "      <th>3144</th>\n",
       "      <td>71401</td>\n",
       "      <td>368</td>\n",
       "      <td>1611</td>\n",
       "      <td>1816</td>\n",
       "      <td>NaN</td>\n",
       "      <td>1101</td>\n",
       "      <td>1</td>\n",
       "    </tr>\n",
       "    <tr>\n",
       "      <th>3150</th>\n",
       "      <td>329040</td>\n",
       "      <td>467</td>\n",
       "      <td>151</td>\n",
       "      <td>1056</td>\n",
       "      <td>NaN</td>\n",
       "      <td>1109</td>\n",
       "      <td>1</td>\n",
       "    </tr>\n",
       "    <tr>\n",
       "      <th>6288</th>\n",
       "      <td>417084</td>\n",
       "      <td>365</td>\n",
       "      <td>1213</td>\n",
       "      <td>1364</td>\n",
       "      <td>NaN</td>\n",
       "      <td>915</td>\n",
       "      <td>1</td>\n",
       "    </tr>\n",
       "    <tr>\n",
       "      <th>6339</th>\n",
       "      <td>143500</td>\n",
       "      <td>472</td>\n",
       "      <td>737</td>\n",
       "      <td>801</td>\n",
       "      <td>NaN</td>\n",
       "      <td>923</td>\n",
       "      <td>1</td>\n",
       "    </tr>\n",
       "  </tbody>\n",
       "</table>\n",
       "</div>"
      ],
      "text/plain": [
       "      user_id  item_id  cat_id  seller_id  brand_id  time_stamp  action_type\n",
       "201    313304      368    1611       1816       NaN        1110            1\n",
       "552    310350      350     905       2193       NaN        1024            1\n",
       "962    116100      472     737        801       NaN         923            1\n",
       "1369   356593      323    1397       3677       NaN        1012            1\n",
       "2860   222010      371     664        962       NaN        1111            1\n",
       "3144    71401      368    1611       1816       NaN        1101            1\n",
       "3150   329040      467     151       1056       NaN        1109            1\n",
       "6288   417084      365    1213       1364       NaN         915            1\n",
       "6339   143500      472     737        801       NaN         923            1"
      ]
     },
     "execution_count": 19,
     "metadata": {},
     "output_type": "execute_result"
    }
   ],
   "source": [
    "#Only 9 items were added to the cart by the users\n",
    "action_type_1=user_logs[user_logs['action_type']==1]\n",
    "action_type_1"
   ]
  },
  {
   "cell_type": "code",
   "execution_count": 20,
   "id": "f1ca1a7f",
   "metadata": {},
   "outputs": [
    {
     "data": {
      "text/html": [
       "<div>\n",
       "<style scoped>\n",
       "    .dataframe tbody tr th:only-of-type {\n",
       "        vertical-align: middle;\n",
       "    }\n",
       "\n",
       "    .dataframe tbody tr th {\n",
       "        vertical-align: top;\n",
       "    }\n",
       "\n",
       "    .dataframe thead th {\n",
       "        text-align: right;\n",
       "    }\n",
       "</style>\n",
       "<table border=\"1\" class=\"dataframe\">\n",
       "  <thead>\n",
       "    <tr style=\"text-align: right;\">\n",
       "      <th></th>\n",
       "      <th>cat_id</th>\n",
       "      <th>0</th>\n",
       "    </tr>\n",
       "  </thead>\n",
       "  <tbody>\n",
       "    <tr>\n",
       "      <th>0</th>\n",
       "      <td>2</td>\n",
       "      <td>68</td>\n",
       "    </tr>\n",
       "    <tr>\n",
       "      <th>1</th>\n",
       "      <td>35</td>\n",
       "      <td>1</td>\n",
       "    </tr>\n",
       "    <tr>\n",
       "      <th>2</th>\n",
       "      <td>36</td>\n",
       "      <td>67</td>\n",
       "    </tr>\n",
       "    <tr>\n",
       "      <th>3</th>\n",
       "      <td>40</td>\n",
       "      <td>111</td>\n",
       "    </tr>\n",
       "    <tr>\n",
       "      <th>4</th>\n",
       "      <td>70</td>\n",
       "      <td>1</td>\n",
       "    </tr>\n",
       "    <tr>\n",
       "      <th>...</th>\n",
       "      <td>...</td>\n",
       "      <td>...</td>\n",
       "    </tr>\n",
       "    <tr>\n",
       "      <th>82</th>\n",
       "      <td>1604</td>\n",
       "      <td>161</td>\n",
       "    </tr>\n",
       "    <tr>\n",
       "      <th>83</th>\n",
       "      <td>1611</td>\n",
       "      <td>565</td>\n",
       "    </tr>\n",
       "    <tr>\n",
       "      <th>84</th>\n",
       "      <td>1643</td>\n",
       "      <td>1</td>\n",
       "    </tr>\n",
       "    <tr>\n",
       "      <th>85</th>\n",
       "      <td>1650</td>\n",
       "      <td>2</td>\n",
       "    </tr>\n",
       "    <tr>\n",
       "      <th>86</th>\n",
       "      <td>1661</td>\n",
       "      <td>10</td>\n",
       "    </tr>\n",
       "  </tbody>\n",
       "</table>\n",
       "<p>87 rows × 2 columns</p>\n",
       "</div>"
      ],
      "text/plain": [
       "    cat_id    0\n",
       "0        2   68\n",
       "1       35    1\n",
       "2       36   67\n",
       "3       40  111\n",
       "4       70    1\n",
       "..     ...  ...\n",
       "82    1604  161\n",
       "83    1611  565\n",
       "84    1643    1\n",
       "85    1650    2\n",
       "86    1661   10\n",
       "\n",
       "[87 rows x 2 columns]"
      ]
     },
     "execution_count": 20,
     "metadata": {},
     "output_type": "execute_result"
    }
   ],
   "source": [
    "#grouping by cat_id\n",
    "user_logs.groupby('cat_id').size().to_frame().reset_index()"
   ]
  },
  {
   "cell_type": "code",
   "execution_count": 21,
   "id": "0dc69669",
   "metadata": {},
   "outputs": [
    {
     "name": "stdout",
     "output_type": "stream",
     "text": [
      "Most popular Category Id : 737\n",
      "count: 2477\n"
     ]
    }
   ],
   "source": [
    "#Products of category id - 737 is widely reachable among people \n",
    "category_bygroup=user_logs.groupby('cat_id').size()\n",
    "print(\"Most popular Category Id : \"+ str(category_bygroup.idxmax()))\n",
    "print(\"count: \"+str(category_bygroup.max()))"
   ]
  },
  {
   "cell_type": "code",
   "execution_count": 22,
   "id": "0854ceeb",
   "metadata": {},
   "outputs": [
    {
     "name": "stdout",
     "output_type": "stream",
     "text": [
      "Less popular Category Id : 35\n",
      "count: 1\n"
     ]
    }
   ],
   "source": [
    "#Products of category id - 35 is is less reachable among people \n",
    "print(\"Less popular Category Id : \"+ str(category_bygroup.idxmin()))\n",
    "print(\"count: \"+str(category_bygroup.min()))"
   ]
  },
  {
   "cell_type": "code",
   "execution_count": 23,
   "id": "2907ac44",
   "metadata": {},
   "outputs": [
    {
     "name": "stdout",
     "output_type": "stream",
     "text": [
      "Most bought Category Id : 737\n",
      "count: 290\n"
     ]
    }
   ],
   "source": [
    "#Products of category id - 737 is widely bought by people\n",
    "purchased_category_bygroup=purchased_df.groupby('cat_id').size()\n",
    "print(\"Most bought Category Id : \"+ str(purchased_category_bygroup.idxmax()))\n",
    "print(\"count: \"+str(purchased_category_bygroup.max()))"
   ]
  },
  {
   "cell_type": "code",
   "execution_count": 24,
   "id": "92625535",
   "metadata": {},
   "outputs": [
    {
     "data": {
      "text/html": [
       "<div>\n",
       "<style scoped>\n",
       "    .dataframe tbody tr th:only-of-type {\n",
       "        vertical-align: middle;\n",
       "    }\n",
       "\n",
       "    .dataframe tbody tr th {\n",
       "        vertical-align: top;\n",
       "    }\n",
       "\n",
       "    .dataframe thead th {\n",
       "        text-align: right;\n",
       "    }\n",
       "</style>\n",
       "<table border=\"1\" class=\"dataframe\">\n",
       "  <thead>\n",
       "    <tr style=\"text-align: right;\">\n",
       "      <th></th>\n",
       "      <th>brand_id</th>\n",
       "      <th>0</th>\n",
       "    </tr>\n",
       "  </thead>\n",
       "  <tbody>\n",
       "    <tr>\n",
       "      <th>0</th>\n",
       "      <td>82.0</td>\n",
       "      <td>1</td>\n",
       "    </tr>\n",
       "    <tr>\n",
       "      <th>1</th>\n",
       "      <td>99.0</td>\n",
       "      <td>161</td>\n",
       "    </tr>\n",
       "    <tr>\n",
       "      <th>2</th>\n",
       "      <td>202.0</td>\n",
       "      <td>9</td>\n",
       "    </tr>\n",
       "    <tr>\n",
       "      <th>3</th>\n",
       "      <td>277.0</td>\n",
       "      <td>47</td>\n",
       "    </tr>\n",
       "    <tr>\n",
       "      <th>4</th>\n",
       "      <td>404.0</td>\n",
       "      <td>2</td>\n",
       "    </tr>\n",
       "    <tr>\n",
       "      <th>...</th>\n",
       "      <td>...</td>\n",
       "      <td>...</td>\n",
       "    </tr>\n",
       "    <tr>\n",
       "      <th>144</th>\n",
       "      <td>8216.0</td>\n",
       "      <td>7</td>\n",
       "    </tr>\n",
       "    <tr>\n",
       "      <th>145</th>\n",
       "      <td>8282.0</td>\n",
       "      <td>2</td>\n",
       "    </tr>\n",
       "    <tr>\n",
       "      <th>146</th>\n",
       "      <td>8296.0</td>\n",
       "      <td>13</td>\n",
       "    </tr>\n",
       "    <tr>\n",
       "      <th>147</th>\n",
       "      <td>8353.0</td>\n",
       "      <td>516</td>\n",
       "    </tr>\n",
       "    <tr>\n",
       "      <th>148</th>\n",
       "      <td>8424.0</td>\n",
       "      <td>65</td>\n",
       "    </tr>\n",
       "  </tbody>\n",
       "</table>\n",
       "<p>149 rows × 2 columns</p>\n",
       "</div>"
      ],
      "text/plain": [
       "     brand_id    0\n",
       "0        82.0    1\n",
       "1        99.0  161\n",
       "2       202.0    9\n",
       "3       277.0   47\n",
       "4       404.0    2\n",
       "..        ...  ...\n",
       "144    8216.0    7\n",
       "145    8282.0    2\n",
       "146    8296.0   13\n",
       "147    8353.0  516\n",
       "148    8424.0   65\n",
       "\n",
       "[149 rows x 2 columns]"
      ]
     },
     "execution_count": 24,
     "metadata": {},
     "output_type": "execute_result"
    }
   ],
   "source": [
    "#grouping by brand_id\n",
    "user_logs.groupby('brand_id').size().to_frame().reset_index()"
   ]
  },
  {
   "cell_type": "code",
   "execution_count": 25,
   "id": "fdafcd9b",
   "metadata": {},
   "outputs": [
    {
     "name": "stdout",
     "output_type": "stream",
     "text": [
      "Most Popular Brand Id : 5890.0\n",
      "count: 2466\n"
     ]
    }
   ],
   "source": [
    "# Brand Id - 5890 is popular among user\n",
    "brand_bygroup=user_logs.groupby('brand_id').size()\n",
    "print(\"Most Popular Brand Id : \"+ str(brand_bygroup.idxmax()))\n",
    "print(\"count: \"+str(brand_bygroup.max()))"
   ]
  },
  {
   "cell_type": "code",
   "execution_count": 26,
   "id": "e8a72848",
   "metadata": {},
   "outputs": [
    {
     "name": "stdout",
     "output_type": "stream",
     "text": [
      "Less popular Brand Id : 82.0\n",
      "count: 1\n"
     ]
    }
   ],
   "source": [
    "# Brand Id - 82 is not popular among user\n",
    "brand_bygroup=user_logs.groupby('brand_id').size()\n",
    "print(\"Less popular Brand Id : \"+ str(brand_bygroup.idxmin()))\n",
    "print(\"count: \"+str(brand_bygroup.min()))"
   ]
  },
  {
   "cell_type": "code",
   "execution_count": 27,
   "id": "21432655",
   "metadata": {},
   "outputs": [
    {
     "name": "stdout",
     "output_type": "stream",
     "text": [
      "Most bought Brand Id : 5890.0\n",
      "count: 290\n"
     ]
    }
   ],
   "source": [
    "# Brand Id - 5890 is most brought brand by user\n",
    "purchased_brand_bygroup=purchased_df.groupby('brand_id').size()\n",
    "print(\"Most bought Brand Id : \"+ str(purchased_brand_bygroup.idxmax()))\n",
    "print(\"count: \"+str(purchased_brand_bygroup.max()))"
   ]
  },
  {
   "cell_type": "markdown",
   "id": "7f54453d",
   "metadata": {},
   "source": [
    "## Training data"
   ]
  },
  {
   "cell_type": "code",
   "execution_count": 28,
   "id": "57c7e1c4",
   "metadata": {},
   "outputs": [],
   "source": [
    "#Merging user log and user profile\n",
    "merge_user_log_user_profile=pd.merge(user_logs,user_profile,on='user_id')"
   ]
  },
  {
   "cell_type": "code",
   "execution_count": 29,
   "id": "cf86837c",
   "metadata": {},
   "outputs": [
    {
     "data": {
      "text/html": [
       "<div>\n",
       "<style scoped>\n",
       "    .dataframe tbody tr th:only-of-type {\n",
       "        vertical-align: middle;\n",
       "    }\n",
       "\n",
       "    .dataframe tbody tr th {\n",
       "        vertical-align: top;\n",
       "    }\n",
       "\n",
       "    .dataframe thead th {\n",
       "        text-align: right;\n",
       "    }\n",
       "</style>\n",
       "<table border=\"1\" class=\"dataframe\">\n",
       "  <thead>\n",
       "    <tr style=\"text-align: right;\">\n",
       "      <th></th>\n",
       "      <th>user_id</th>\n",
       "      <th>item_id</th>\n",
       "      <th>cat_id</th>\n",
       "      <th>seller_id</th>\n",
       "      <th>brand_id</th>\n",
       "      <th>time_stamp</th>\n",
       "      <th>action_type</th>\n",
       "      <th>age_range</th>\n",
       "      <th>gender</th>\n",
       "    </tr>\n",
       "  </thead>\n",
       "  <tbody>\n",
       "    <tr>\n",
       "      <th>0</th>\n",
       "      <td>219316</td>\n",
       "      <td>472</td>\n",
       "      <td>737</td>\n",
       "      <td>801</td>\n",
       "      <td>5890.0</td>\n",
       "      <td>1018</td>\n",
       "      <td>0</td>\n",
       "      <td>4.0</td>\n",
       "      <td>0.0</td>\n",
       "    </tr>\n",
       "    <tr>\n",
       "      <th>1</th>\n",
       "      <td>69247</td>\n",
       "      <td>471</td>\n",
       "      <td>1266</td>\n",
       "      <td>4614</td>\n",
       "      <td>4331.0</td>\n",
       "      <td>619</td>\n",
       "      <td>2</td>\n",
       "      <td>4.0</td>\n",
       "      <td>1.0</td>\n",
       "    </tr>\n",
       "    <tr>\n",
       "      <th>2</th>\n",
       "      <td>69247</td>\n",
       "      <td>471</td>\n",
       "      <td>1266</td>\n",
       "      <td>4614</td>\n",
       "      <td>4331.0</td>\n",
       "      <td>619</td>\n",
       "      <td>0</td>\n",
       "      <td>4.0</td>\n",
       "      <td>1.0</td>\n",
       "    </tr>\n",
       "    <tr>\n",
       "      <th>3</th>\n",
       "      <td>216952</td>\n",
       "      <td>352</td>\n",
       "      <td>991</td>\n",
       "      <td>3527</td>\n",
       "      <td>869.0</td>\n",
       "      <td>626</td>\n",
       "      <td>0</td>\n",
       "      <td>5.0</td>\n",
       "      <td>2.0</td>\n",
       "    </tr>\n",
       "    <tr>\n",
       "      <th>4</th>\n",
       "      <td>216952</td>\n",
       "      <td>352</td>\n",
       "      <td>991</td>\n",
       "      <td>3527</td>\n",
       "      <td>869.0</td>\n",
       "      <td>626</td>\n",
       "      <td>0</td>\n",
       "      <td>5.0</td>\n",
       "      <td>2.0</td>\n",
       "    </tr>\n",
       "  </tbody>\n",
       "</table>\n",
       "</div>"
      ],
      "text/plain": [
       "   user_id  item_id  cat_id  seller_id  brand_id  time_stamp  action_type  \\\n",
       "0   219316      472     737        801    5890.0        1018            0   \n",
       "1    69247      471    1266       4614    4331.0         619            2   \n",
       "2    69247      471    1266       4614    4331.0         619            0   \n",
       "3   216952      352     991       3527     869.0         626            0   \n",
       "4   216952      352     991       3527     869.0         626            0   \n",
       "\n",
       "   age_range  gender  \n",
       "0        4.0     0.0  \n",
       "1        4.0     1.0  \n",
       "2        4.0     1.0  \n",
       "3        5.0     2.0  \n",
       "4        5.0     2.0  "
      ]
     },
     "execution_count": 29,
     "metadata": {},
     "output_type": "execute_result"
    }
   ],
   "source": [
    "merge_user_log_user_profile.head()"
   ]
  },
  {
   "cell_type": "code",
   "execution_count": 30,
   "id": "19cf5285",
   "metadata": {},
   "outputs": [
    {
     "data": {
      "text/plain": [
       "(7402, 9)"
      ]
     },
     "execution_count": 30,
     "metadata": {},
     "output_type": "execute_result"
    }
   ],
   "source": [
    "merge_user_log_user_profile.shape"
   ]
  },
  {
   "cell_type": "code",
   "execution_count": 31,
   "id": "bb09c890",
   "metadata": {},
   "outputs": [],
   "source": [
    "#Renaming seller_id column to merchant_id\n",
    "merge_user_log_user_profile = merge_user_log_user_profile.rename(columns={'seller_id': 'merchant_id'})"
   ]
  },
  {
   "cell_type": "code",
   "execution_count": 32,
   "id": "fe60cb4c",
   "metadata": {},
   "outputs": [],
   "source": [
    "#Merging merge_user_log_user_profile and training data to create a final training data\n",
    "final_merged_training_df=pd.merge(merge_user_log_user_profile,train_df,on=['user_id','merchant_id'],)"
   ]
  },
  {
   "cell_type": "code",
   "execution_count": 33,
   "id": "56777c07",
   "metadata": {},
   "outputs": [
    {
     "data": {
      "text/html": [
       "<div>\n",
       "<style scoped>\n",
       "    .dataframe tbody tr th:only-of-type {\n",
       "        vertical-align: middle;\n",
       "    }\n",
       "\n",
       "    .dataframe tbody tr th {\n",
       "        vertical-align: top;\n",
       "    }\n",
       "\n",
       "    .dataframe thead th {\n",
       "        text-align: right;\n",
       "    }\n",
       "</style>\n",
       "<table border=\"1\" class=\"dataframe\">\n",
       "  <thead>\n",
       "    <tr style=\"text-align: right;\">\n",
       "      <th></th>\n",
       "      <th>user_id</th>\n",
       "      <th>item_id</th>\n",
       "      <th>cat_id</th>\n",
       "      <th>merchant_id</th>\n",
       "      <th>brand_id</th>\n",
       "      <th>time_stamp</th>\n",
       "      <th>action_type</th>\n",
       "      <th>age_range</th>\n",
       "      <th>gender</th>\n",
       "      <th>label</th>\n",
       "    </tr>\n",
       "  </thead>\n",
       "  <tbody>\n",
       "    <tr>\n",
       "      <th>0</th>\n",
       "      <td>190023</td>\n",
       "      <td>424</td>\n",
       "      <td>662</td>\n",
       "      <td>3432</td>\n",
       "      <td>5093.0</td>\n",
       "      <td>1111</td>\n",
       "      <td>0</td>\n",
       "      <td>4.0</td>\n",
       "      <td>0.0</td>\n",
       "      <td>0</td>\n",
       "    </tr>\n",
       "    <tr>\n",
       "      <th>1</th>\n",
       "      <td>190023</td>\n",
       "      <td>424</td>\n",
       "      <td>662</td>\n",
       "      <td>3432</td>\n",
       "      <td>5093.0</td>\n",
       "      <td>1111</td>\n",
       "      <td>0</td>\n",
       "      <td>4.0</td>\n",
       "      <td>0.0</td>\n",
       "      <td>0</td>\n",
       "    </tr>\n",
       "    <tr>\n",
       "      <th>2</th>\n",
       "      <td>190023</td>\n",
       "      <td>424</td>\n",
       "      <td>662</td>\n",
       "      <td>3432</td>\n",
       "      <td>5093.0</td>\n",
       "      <td>1111</td>\n",
       "      <td>0</td>\n",
       "      <td>4.0</td>\n",
       "      <td>0.0</td>\n",
       "      <td>0</td>\n",
       "    </tr>\n",
       "    <tr>\n",
       "      <th>3</th>\n",
       "      <td>190023</td>\n",
       "      <td>424</td>\n",
       "      <td>662</td>\n",
       "      <td>3432</td>\n",
       "      <td>5093.0</td>\n",
       "      <td>1111</td>\n",
       "      <td>3</td>\n",
       "      <td>4.0</td>\n",
       "      <td>0.0</td>\n",
       "      <td>0</td>\n",
       "    </tr>\n",
       "    <tr>\n",
       "      <th>4</th>\n",
       "      <td>190023</td>\n",
       "      <td>424</td>\n",
       "      <td>662</td>\n",
       "      <td>3432</td>\n",
       "      <td>5093.0</td>\n",
       "      <td>1111</td>\n",
       "      <td>2</td>\n",
       "      <td>4.0</td>\n",
       "      <td>0.0</td>\n",
       "      <td>0</td>\n",
       "    </tr>\n",
       "  </tbody>\n",
       "</table>\n",
       "</div>"
      ],
      "text/plain": [
       "   user_id  item_id  cat_id  merchant_id  brand_id  time_stamp  action_type  \\\n",
       "0   190023      424     662         3432    5093.0        1111            0   \n",
       "1   190023      424     662         3432    5093.0        1111            0   \n",
       "2   190023      424     662         3432    5093.0        1111            0   \n",
       "3   190023      424     662         3432    5093.0        1111            3   \n",
       "4   190023      424     662         3432    5093.0        1111            2   \n",
       "\n",
       "   age_range  gender  label  \n",
       "0        4.0     0.0      0  \n",
       "1        4.0     0.0      0  \n",
       "2        4.0     0.0      0  \n",
       "3        4.0     0.0      0  \n",
       "4        4.0     0.0      0  "
      ]
     },
     "execution_count": 33,
     "metadata": {},
     "output_type": "execute_result"
    }
   ],
   "source": [
    "final_merged_training_df.head(5)"
   ]
  },
  {
   "cell_type": "code",
   "execution_count": 34,
   "id": "c9fc710d",
   "metadata": {},
   "outputs": [
    {
     "data": {
      "text/plain": [
       "(390, 10)"
      ]
     },
     "execution_count": 34,
     "metadata": {},
     "output_type": "execute_result"
    }
   ],
   "source": [
    "final_merged_training_df.shape"
   ]
  },
  {
   "cell_type": "code",
   "execution_count": 35,
   "id": "42fd8152",
   "metadata": {},
   "outputs": [
    {
     "data": {
      "text/html": [
       "<div>\n",
       "<style scoped>\n",
       "    .dataframe tbody tr th:only-of-type {\n",
       "        vertical-align: middle;\n",
       "    }\n",
       "\n",
       "    .dataframe tbody tr th {\n",
       "        vertical-align: top;\n",
       "    }\n",
       "\n",
       "    .dataframe thead th {\n",
       "        text-align: right;\n",
       "    }\n",
       "</style>\n",
       "<table border=\"1\" class=\"dataframe\">\n",
       "  <thead>\n",
       "    <tr style=\"text-align: right;\">\n",
       "      <th></th>\n",
       "      <th>cat_id</th>\n",
       "      <th>0</th>\n",
       "    </tr>\n",
       "  </thead>\n",
       "  <tbody>\n",
       "    <tr>\n",
       "      <th>0</th>\n",
       "      <td>40</td>\n",
       "      <td>4</td>\n",
       "    </tr>\n",
       "    <tr>\n",
       "      <th>1</th>\n",
       "      <td>151</td>\n",
       "      <td>71</td>\n",
       "    </tr>\n",
       "    <tr>\n",
       "      <th>2</th>\n",
       "      <td>184</td>\n",
       "      <td>3</td>\n",
       "    </tr>\n",
       "    <tr>\n",
       "      <th>3</th>\n",
       "      <td>302</td>\n",
       "      <td>2</td>\n",
       "    </tr>\n",
       "    <tr>\n",
       "      <th>4</th>\n",
       "      <td>384</td>\n",
       "      <td>3</td>\n",
       "    </tr>\n",
       "    <tr>\n",
       "      <th>5</th>\n",
       "      <td>407</td>\n",
       "      <td>1</td>\n",
       "    </tr>\n",
       "    <tr>\n",
       "      <th>6</th>\n",
       "      <td>420</td>\n",
       "      <td>18</td>\n",
       "    </tr>\n",
       "    <tr>\n",
       "      <th>7</th>\n",
       "      <td>469</td>\n",
       "      <td>13</td>\n",
       "    </tr>\n",
       "    <tr>\n",
       "      <th>8</th>\n",
       "      <td>656</td>\n",
       "      <td>1</td>\n",
       "    </tr>\n",
       "    <tr>\n",
       "      <th>9</th>\n",
       "      <td>662</td>\n",
       "      <td>122</td>\n",
       "    </tr>\n",
       "    <tr>\n",
       "      <th>10</th>\n",
       "      <td>664</td>\n",
       "      <td>3</td>\n",
       "    </tr>\n",
       "    <tr>\n",
       "      <th>11</th>\n",
       "      <td>786</td>\n",
       "      <td>19</td>\n",
       "    </tr>\n",
       "    <tr>\n",
       "      <th>12</th>\n",
       "      <td>821</td>\n",
       "      <td>2</td>\n",
       "    </tr>\n",
       "    <tr>\n",
       "      <th>13</th>\n",
       "      <td>946</td>\n",
       "      <td>5</td>\n",
       "    </tr>\n",
       "    <tr>\n",
       "      <th>14</th>\n",
       "      <td>992</td>\n",
       "      <td>5</td>\n",
       "    </tr>\n",
       "    <tr>\n",
       "      <th>15</th>\n",
       "      <td>1174</td>\n",
       "      <td>1</td>\n",
       "    </tr>\n",
       "    <tr>\n",
       "      <th>16</th>\n",
       "      <td>1188</td>\n",
       "      <td>3</td>\n",
       "    </tr>\n",
       "    <tr>\n",
       "      <th>17</th>\n",
       "      <td>1208</td>\n",
       "      <td>1</td>\n",
       "    </tr>\n",
       "    <tr>\n",
       "      <th>18</th>\n",
       "      <td>1256</td>\n",
       "      <td>6</td>\n",
       "    </tr>\n",
       "    <tr>\n",
       "      <th>19</th>\n",
       "      <td>1266</td>\n",
       "      <td>3</td>\n",
       "    </tr>\n",
       "    <tr>\n",
       "      <th>20</th>\n",
       "      <td>1290</td>\n",
       "      <td>1</td>\n",
       "    </tr>\n",
       "    <tr>\n",
       "      <th>21</th>\n",
       "      <td>1388</td>\n",
       "      <td>4</td>\n",
       "    </tr>\n",
       "    <tr>\n",
       "      <th>22</th>\n",
       "      <td>1438</td>\n",
       "      <td>4</td>\n",
       "    </tr>\n",
       "    <tr>\n",
       "      <th>23</th>\n",
       "      <td>1505</td>\n",
       "      <td>1</td>\n",
       "    </tr>\n",
       "    <tr>\n",
       "      <th>24</th>\n",
       "      <td>1611</td>\n",
       "      <td>93</td>\n",
       "    </tr>\n",
       "    <tr>\n",
       "      <th>25</th>\n",
       "      <td>1661</td>\n",
       "      <td>1</td>\n",
       "    </tr>\n",
       "  </tbody>\n",
       "</table>\n",
       "</div>"
      ],
      "text/plain": [
       "    cat_id    0\n",
       "0       40    4\n",
       "1      151   71\n",
       "2      184    3\n",
       "3      302    2\n",
       "4      384    3\n",
       "5      407    1\n",
       "6      420   18\n",
       "7      469   13\n",
       "8      656    1\n",
       "9      662  122\n",
       "10     664    3\n",
       "11     786   19\n",
       "12     821    2\n",
       "13     946    5\n",
       "14     992    5\n",
       "15    1174    1\n",
       "16    1188    3\n",
       "17    1208    1\n",
       "18    1256    6\n",
       "19    1266    3\n",
       "20    1290    1\n",
       "21    1388    4\n",
       "22    1438    4\n",
       "23    1505    1\n",
       "24    1611   93\n",
       "25    1661    1"
      ]
     },
     "execution_count": 35,
     "metadata": {},
     "output_type": "execute_result"
    }
   ],
   "source": [
    "category_final_bygroup=final_merged_training_df.groupby('cat_id').size()\n",
    "category_final_bygroup.to_frame().reset_index()"
   ]
  },
  {
   "cell_type": "code",
   "execution_count": 36,
   "id": "0b04d414",
   "metadata": {},
   "outputs": [
    {
     "data": {
      "text/html": [
       "<div>\n",
       "<style scoped>\n",
       "    .dataframe tbody tr th:only-of-type {\n",
       "        vertical-align: middle;\n",
       "    }\n",
       "\n",
       "    .dataframe tbody tr th {\n",
       "        vertical-align: top;\n",
       "    }\n",
       "\n",
       "    .dataframe thead th {\n",
       "        text-align: right;\n",
       "    }\n",
       "</style>\n",
       "<table border=\"1\" class=\"dataframe\">\n",
       "  <thead>\n",
       "    <tr style=\"text-align: right;\">\n",
       "      <th></th>\n",
       "      <th>brand_id</th>\n",
       "      <th>0</th>\n",
       "    </tr>\n",
       "  </thead>\n",
       "  <tbody>\n",
       "    <tr>\n",
       "      <th>0</th>\n",
       "      <td>277.0</td>\n",
       "      <td>4</td>\n",
       "    </tr>\n",
       "    <tr>\n",
       "      <th>1</th>\n",
       "      <td>1214.0</td>\n",
       "      <td>4</td>\n",
       "    </tr>\n",
       "    <tr>\n",
       "      <th>2</th>\n",
       "      <td>1292.0</td>\n",
       "      <td>3</td>\n",
       "    </tr>\n",
       "    <tr>\n",
       "      <th>3</th>\n",
       "      <td>1439.0</td>\n",
       "      <td>71</td>\n",
       "    </tr>\n",
       "    <tr>\n",
       "      <th>4</th>\n",
       "      <td>1766.0</td>\n",
       "      <td>2</td>\n",
       "    </tr>\n",
       "    <tr>\n",
       "      <th>5</th>\n",
       "      <td>2044.0</td>\n",
       "      <td>93</td>\n",
       "    </tr>\n",
       "    <tr>\n",
       "      <th>6</th>\n",
       "      <td>2095.0</td>\n",
       "      <td>5</td>\n",
       "    </tr>\n",
       "    <tr>\n",
       "      <th>7</th>\n",
       "      <td>2153.0</td>\n",
       "      <td>13</td>\n",
       "    </tr>\n",
       "    <tr>\n",
       "      <th>8</th>\n",
       "      <td>2276.0</td>\n",
       "      <td>1</td>\n",
       "    </tr>\n",
       "    <tr>\n",
       "      <th>9</th>\n",
       "      <td>2337.0</td>\n",
       "      <td>3</td>\n",
       "    </tr>\n",
       "    <tr>\n",
       "      <th>10</th>\n",
       "      <td>2773.0</td>\n",
       "      <td>1</td>\n",
       "    </tr>\n",
       "    <tr>\n",
       "      <th>11</th>\n",
       "      <td>3188.0</td>\n",
       "      <td>16</td>\n",
       "    </tr>\n",
       "    <tr>\n",
       "      <th>12</th>\n",
       "      <td>3563.0</td>\n",
       "      <td>1</td>\n",
       "    </tr>\n",
       "    <tr>\n",
       "      <th>13</th>\n",
       "      <td>3749.0</td>\n",
       "      <td>1</td>\n",
       "    </tr>\n",
       "    <tr>\n",
       "      <th>14</th>\n",
       "      <td>4131.0</td>\n",
       "      <td>3</td>\n",
       "    </tr>\n",
       "    <tr>\n",
       "      <th>15</th>\n",
       "      <td>4331.0</td>\n",
       "      <td>3</td>\n",
       "    </tr>\n",
       "    <tr>\n",
       "      <th>16</th>\n",
       "      <td>4337.0</td>\n",
       "      <td>3</td>\n",
       "    </tr>\n",
       "    <tr>\n",
       "      <th>17</th>\n",
       "      <td>4471.0</td>\n",
       "      <td>3</td>\n",
       "    </tr>\n",
       "    <tr>\n",
       "      <th>18</th>\n",
       "      <td>4485.0</td>\n",
       "      <td>1</td>\n",
       "    </tr>\n",
       "    <tr>\n",
       "      <th>19</th>\n",
       "      <td>5052.0</td>\n",
       "      <td>3</td>\n",
       "    </tr>\n",
       "    <tr>\n",
       "      <th>20</th>\n",
       "      <td>5093.0</td>\n",
       "      <td>122</td>\n",
       "    </tr>\n",
       "    <tr>\n",
       "      <th>21</th>\n",
       "      <td>6109.0</td>\n",
       "      <td>5</td>\n",
       "    </tr>\n",
       "    <tr>\n",
       "      <th>22</th>\n",
       "      <td>6437.0</td>\n",
       "      <td>1</td>\n",
       "    </tr>\n",
       "    <tr>\n",
       "      <th>23</th>\n",
       "      <td>6439.0</td>\n",
       "      <td>2</td>\n",
       "    </tr>\n",
       "    <tr>\n",
       "      <th>24</th>\n",
       "      <td>7626.0</td>\n",
       "      <td>1</td>\n",
       "    </tr>\n",
       "    <tr>\n",
       "      <th>25</th>\n",
       "      <td>7628.0</td>\n",
       "      <td>4</td>\n",
       "    </tr>\n",
       "    <tr>\n",
       "      <th>26</th>\n",
       "      <td>7734.0</td>\n",
       "      <td>1</td>\n",
       "    </tr>\n",
       "    <tr>\n",
       "      <th>27</th>\n",
       "      <td>7744.0</td>\n",
       "      <td>1</td>\n",
       "    </tr>\n",
       "    <tr>\n",
       "      <th>28</th>\n",
       "      <td>7936.0</td>\n",
       "      <td>13</td>\n",
       "    </tr>\n",
       "    <tr>\n",
       "      <th>29</th>\n",
       "      <td>8123.0</td>\n",
       "      <td>6</td>\n",
       "    </tr>\n",
       "  </tbody>\n",
       "</table>\n",
       "</div>"
      ],
      "text/plain": [
       "    brand_id    0\n",
       "0      277.0    4\n",
       "1     1214.0    4\n",
       "2     1292.0    3\n",
       "3     1439.0   71\n",
       "4     1766.0    2\n",
       "5     2044.0   93\n",
       "6     2095.0    5\n",
       "7     2153.0   13\n",
       "8     2276.0    1\n",
       "9     2337.0    3\n",
       "10    2773.0    1\n",
       "11    3188.0   16\n",
       "12    3563.0    1\n",
       "13    3749.0    1\n",
       "14    4131.0    3\n",
       "15    4331.0    3\n",
       "16    4337.0    3\n",
       "17    4471.0    3\n",
       "18    4485.0    1\n",
       "19    5052.0    3\n",
       "20    5093.0  122\n",
       "21    6109.0    5\n",
       "22    6437.0    1\n",
       "23    6439.0    2\n",
       "24    7626.0    1\n",
       "25    7628.0    4\n",
       "26    7734.0    1\n",
       "27    7744.0    1\n",
       "28    7936.0   13\n",
       "29    8123.0    6"
      ]
     },
     "execution_count": 36,
     "metadata": {},
     "output_type": "execute_result"
    }
   ],
   "source": [
    "brand_final_bygroup=final_merged_training_df.groupby('brand_id').size()\n",
    "brand_final_bygroup.to_frame().reset_index()"
   ]
  },
  {
   "cell_type": "code",
   "execution_count": 37,
   "id": "b0092366",
   "metadata": {
    "scrolled": true
   },
   "outputs": [
    {
     "data": {
      "text/html": [
       "<div>\n",
       "<style scoped>\n",
       "    .dataframe tbody tr th:only-of-type {\n",
       "        vertical-align: middle;\n",
       "    }\n",
       "\n",
       "    .dataframe tbody tr th {\n",
       "        vertical-align: top;\n",
       "    }\n",
       "\n",
       "    .dataframe thead th {\n",
       "        text-align: right;\n",
       "    }\n",
       "</style>\n",
       "<table border=\"1\" class=\"dataframe\">\n",
       "  <thead>\n",
       "    <tr style=\"text-align: right;\">\n",
       "      <th></th>\n",
       "      <th>time_stamp</th>\n",
       "      <th>0</th>\n",
       "    </tr>\n",
       "  </thead>\n",
       "  <tbody>\n",
       "    <tr>\n",
       "      <th>0</th>\n",
       "      <td>611</td>\n",
       "      <td>1</td>\n",
       "    </tr>\n",
       "    <tr>\n",
       "      <th>1</th>\n",
       "      <td>621</td>\n",
       "      <td>1</td>\n",
       "    </tr>\n",
       "    <tr>\n",
       "      <th>2</th>\n",
       "      <td>718</td>\n",
       "      <td>1</td>\n",
       "    </tr>\n",
       "    <tr>\n",
       "      <th>3</th>\n",
       "      <td>807</td>\n",
       "      <td>1</td>\n",
       "    </tr>\n",
       "    <tr>\n",
       "      <th>4</th>\n",
       "      <td>824</td>\n",
       "      <td>1</td>\n",
       "    </tr>\n",
       "    <tr>\n",
       "      <th>5</th>\n",
       "      <td>827</td>\n",
       "      <td>1</td>\n",
       "    </tr>\n",
       "    <tr>\n",
       "      <th>6</th>\n",
       "      <td>828</td>\n",
       "      <td>1</td>\n",
       "    </tr>\n",
       "    <tr>\n",
       "      <th>7</th>\n",
       "      <td>912</td>\n",
       "      <td>3</td>\n",
       "    </tr>\n",
       "    <tr>\n",
       "      <th>8</th>\n",
       "      <td>917</td>\n",
       "      <td>1</td>\n",
       "    </tr>\n",
       "    <tr>\n",
       "      <th>9</th>\n",
       "      <td>927</td>\n",
       "      <td>1</td>\n",
       "    </tr>\n",
       "    <tr>\n",
       "      <th>10</th>\n",
       "      <td>930</td>\n",
       "      <td>2</td>\n",
       "    </tr>\n",
       "    <tr>\n",
       "      <th>11</th>\n",
       "      <td>1001</td>\n",
       "      <td>2</td>\n",
       "    </tr>\n",
       "    <tr>\n",
       "      <th>12</th>\n",
       "      <td>1003</td>\n",
       "      <td>1</td>\n",
       "    </tr>\n",
       "    <tr>\n",
       "      <th>13</th>\n",
       "      <td>1011</td>\n",
       "      <td>2</td>\n",
       "    </tr>\n",
       "    <tr>\n",
       "      <th>14</th>\n",
       "      <td>1014</td>\n",
       "      <td>2</td>\n",
       "    </tr>\n",
       "    <tr>\n",
       "      <th>15</th>\n",
       "      <td>1015</td>\n",
       "      <td>1</td>\n",
       "    </tr>\n",
       "    <tr>\n",
       "      <th>16</th>\n",
       "      <td>1016</td>\n",
       "      <td>1</td>\n",
       "    </tr>\n",
       "    <tr>\n",
       "      <th>17</th>\n",
       "      <td>1024</td>\n",
       "      <td>3</td>\n",
       "    </tr>\n",
       "    <tr>\n",
       "      <th>18</th>\n",
       "      <td>1025</td>\n",
       "      <td>3</td>\n",
       "    </tr>\n",
       "    <tr>\n",
       "      <th>19</th>\n",
       "      <td>1026</td>\n",
       "      <td>1</td>\n",
       "    </tr>\n",
       "    <tr>\n",
       "      <th>20</th>\n",
       "      <td>1028</td>\n",
       "      <td>3</td>\n",
       "    </tr>\n",
       "    <tr>\n",
       "      <th>21</th>\n",
       "      <td>1029</td>\n",
       "      <td>3</td>\n",
       "    </tr>\n",
       "    <tr>\n",
       "      <th>22</th>\n",
       "      <td>1101</td>\n",
       "      <td>5</td>\n",
       "    </tr>\n",
       "    <tr>\n",
       "      <th>23</th>\n",
       "      <td>1102</td>\n",
       "      <td>6</td>\n",
       "    </tr>\n",
       "    <tr>\n",
       "      <th>24</th>\n",
       "      <td>1103</td>\n",
       "      <td>4</td>\n",
       "    </tr>\n",
       "    <tr>\n",
       "      <th>25</th>\n",
       "      <td>1104</td>\n",
       "      <td>11</td>\n",
       "    </tr>\n",
       "    <tr>\n",
       "      <th>26</th>\n",
       "      <td>1105</td>\n",
       "      <td>8</td>\n",
       "    </tr>\n",
       "    <tr>\n",
       "      <th>27</th>\n",
       "      <td>1106</td>\n",
       "      <td>9</td>\n",
       "    </tr>\n",
       "    <tr>\n",
       "      <th>28</th>\n",
       "      <td>1107</td>\n",
       "      <td>9</td>\n",
       "    </tr>\n",
       "    <tr>\n",
       "      <th>29</th>\n",
       "      <td>1108</td>\n",
       "      <td>12</td>\n",
       "    </tr>\n",
       "    <tr>\n",
       "      <th>30</th>\n",
       "      <td>1109</td>\n",
       "      <td>18</td>\n",
       "    </tr>\n",
       "    <tr>\n",
       "      <th>31</th>\n",
       "      <td>1110</td>\n",
       "      <td>32</td>\n",
       "    </tr>\n",
       "    <tr>\n",
       "      <th>32</th>\n",
       "      <td>1111</td>\n",
       "      <td>240</td>\n",
       "    </tr>\n",
       "  </tbody>\n",
       "</table>\n",
       "</div>"
      ],
      "text/plain": [
       "    time_stamp    0\n",
       "0          611    1\n",
       "1          621    1\n",
       "2          718    1\n",
       "3          807    1\n",
       "4          824    1\n",
       "5          827    1\n",
       "6          828    1\n",
       "7          912    3\n",
       "8          917    1\n",
       "9          927    1\n",
       "10         930    2\n",
       "11        1001    2\n",
       "12        1003    1\n",
       "13        1011    2\n",
       "14        1014    2\n",
       "15        1015    1\n",
       "16        1016    1\n",
       "17        1024    3\n",
       "18        1025    3\n",
       "19        1026    1\n",
       "20        1028    3\n",
       "21        1029    3\n",
       "22        1101    5\n",
       "23        1102    6\n",
       "24        1103    4\n",
       "25        1104   11\n",
       "26        1105    8\n",
       "27        1106    9\n",
       "28        1107    9\n",
       "29        1108   12\n",
       "30        1109   18\n",
       "31        1110   32\n",
       "32        1111  240"
      ]
     },
     "execution_count": 37,
     "metadata": {},
     "output_type": "execute_result"
    }
   ],
   "source": [
    "timestamp_final_bygroup=final_merged_training_df.groupby('time_stamp').size()\n",
    "timestamp_final_bygroup.to_frame().reset_index()"
   ]
  },
  {
   "cell_type": "code",
   "execution_count": 38,
   "id": "a880eb92",
   "metadata": {},
   "outputs": [
    {
     "data": {
      "text/html": [
       "<div>\n",
       "<style scoped>\n",
       "    .dataframe tbody tr th:only-of-type {\n",
       "        vertical-align: middle;\n",
       "    }\n",
       "\n",
       "    .dataframe tbody tr th {\n",
       "        vertical-align: top;\n",
       "    }\n",
       "\n",
       "    .dataframe thead th {\n",
       "        text-align: right;\n",
       "    }\n",
       "</style>\n",
       "<table border=\"1\" class=\"dataframe\">\n",
       "  <thead>\n",
       "    <tr style=\"text-align: right;\">\n",
       "      <th></th>\n",
       "      <th>age_range</th>\n",
       "      <th>0</th>\n",
       "    </tr>\n",
       "  </thead>\n",
       "  <tbody>\n",
       "    <tr>\n",
       "      <th>0</th>\n",
       "      <td>0.0</td>\n",
       "      <td>100</td>\n",
       "    </tr>\n",
       "    <tr>\n",
       "      <th>1</th>\n",
       "      <td>2.0</td>\n",
       "      <td>25</td>\n",
       "    </tr>\n",
       "    <tr>\n",
       "      <th>2</th>\n",
       "      <td>3.0</td>\n",
       "      <td>99</td>\n",
       "    </tr>\n",
       "    <tr>\n",
       "      <th>3</th>\n",
       "      <td>4.0</td>\n",
       "      <td>70</td>\n",
       "    </tr>\n",
       "    <tr>\n",
       "      <th>4</th>\n",
       "      <td>5.0</td>\n",
       "      <td>20</td>\n",
       "    </tr>\n",
       "    <tr>\n",
       "      <th>5</th>\n",
       "      <td>6.0</td>\n",
       "      <td>61</td>\n",
       "    </tr>\n",
       "    <tr>\n",
       "      <th>6</th>\n",
       "      <td>7.0</td>\n",
       "      <td>12</td>\n",
       "    </tr>\n",
       "    <tr>\n",
       "      <th>7</th>\n",
       "      <td>8.0</td>\n",
       "      <td>3</td>\n",
       "    </tr>\n",
       "  </tbody>\n",
       "</table>\n",
       "</div>"
      ],
      "text/plain": [
       "   age_range    0\n",
       "0        0.0  100\n",
       "1        2.0   25\n",
       "2        3.0   99\n",
       "3        4.0   70\n",
       "4        5.0   20\n",
       "5        6.0   61\n",
       "6        7.0   12\n",
       "7        8.0    3"
      ]
     },
     "execution_count": 38,
     "metadata": {},
     "output_type": "execute_result"
    }
   ],
   "source": [
    "agerange_final_bygroup=final_merged_training_df.groupby('age_range').size()\n",
    "agerange_final_bygroup.to_frame().reset_index()"
   ]
  },
  {
   "cell_type": "code",
   "execution_count": 39,
   "id": "e2070f40",
   "metadata": {},
   "outputs": [
    {
     "data": {
      "text/html": [
       "<div>\n",
       "<style scoped>\n",
       "    .dataframe tbody tr th:only-of-type {\n",
       "        vertical-align: middle;\n",
       "    }\n",
       "\n",
       "    .dataframe tbody tr th {\n",
       "        vertical-align: top;\n",
       "    }\n",
       "\n",
       "    .dataframe thead th {\n",
       "        text-align: right;\n",
       "    }\n",
       "</style>\n",
       "<table border=\"1\" class=\"dataframe\">\n",
       "  <thead>\n",
       "    <tr style=\"text-align: right;\">\n",
       "      <th></th>\n",
       "      <th>gender</th>\n",
       "      <th>0</th>\n",
       "    </tr>\n",
       "  </thead>\n",
       "  <tbody>\n",
       "    <tr>\n",
       "      <th>0</th>\n",
       "      <td>0.0</td>\n",
       "      <td>252</td>\n",
       "    </tr>\n",
       "    <tr>\n",
       "      <th>1</th>\n",
       "      <td>1.0</td>\n",
       "      <td>129</td>\n",
       "    </tr>\n",
       "    <tr>\n",
       "      <th>2</th>\n",
       "      <td>2.0</td>\n",
       "      <td>7</td>\n",
       "    </tr>\n",
       "  </tbody>\n",
       "</table>\n",
       "</div>"
      ],
      "text/plain": [
       "   gender    0\n",
       "0     0.0  252\n",
       "1     1.0  129\n",
       "2     2.0    7"
      ]
     },
     "execution_count": 39,
     "metadata": {},
     "output_type": "execute_result"
    }
   ],
   "source": [
    "gender_final_bygroup=final_merged_training_df.groupby('gender').size()\n",
    "gender_final_bygroup.to_frame().reset_index()"
   ]
  },
  {
   "cell_type": "markdown",
   "id": "a241dc2a",
   "metadata": {},
   "source": [
    "## Feature Selection \n",
    "\n",
    "<b>What is Feature Selection in Machine Learning?</b>\n",
    "\n",
    "The goal of feature selection techniques in machine learning is to find the best set of features that allows one to build optimized models of studied phenomena.\n",
    "\n",
    "<b>What are the three steps in feature selection?<b>\n",
    "    \n",
    "- Data Preprocessing: Clean and prepare the data for feature selection.\n",
    "    \n",
    "- Feature Scoring: Compute scores for each feature to reflect its importance to the target variable.\n",
    "    \n",
    "- Selection: Select a subset of the most important features based on their scores, and use them for training the predictive model.\n",
    "    \n",
    "<b>What are the different types of feature selection techniques?</b>\n",
    "- Filter Methods: Select features based on statistical measures such as correlation or chi-squared test.For example- Correlation-based Feature Selection, chi2 test, SelectKBest, and ANOVA F-value.\n",
    "- Wrapper Methods: Select features by evaluating their combinations using a predictive model.For example- Recursive Feature Elimination, Backward Feature Elimination, Forward Feature Selection\n",
    "- Embedded Methods: Select features by learning their importance during model training.For example- Lasso Regression, Ridge Regression, and Random Forest.\n",
    "- Hybrid Methods: Combine the strengths of filter and wrapper methods. For Example- SelectFromModel\n",
    "- Dimensionality Reduction Techniques: Reduce the dimensionality of the dataset and select the most important features. For Example- pca, lda, and ica."
   ]
  },
  {
   "cell_type": "code",
   "execution_count": 40,
   "id": "c7bf89fd",
   "metadata": {},
   "outputs": [],
   "source": [
    "#droping record with NaN value\n",
    "final_merged_training_df=final_merged_training_df.dropna()"
   ]
  },
  {
   "cell_type": "code",
   "execution_count": 41,
   "id": "8a5104c4",
   "metadata": {},
   "outputs": [],
   "source": [
    "from sklearn.feature_selection import mutual_info_classif\n",
    "X=final_merged_training_df.iloc[:,:-1]\n",
    "Y=final_merged_training_df.iloc[:,-1:]"
   ]
  },
  {
   "cell_type": "markdown",
   "id": "b21f350c",
   "metadata": {},
   "source": [
    "<b>Information Gain</b>\n",
    "\n",
    "Information gain calculates the reduction in entropy from the transformation of a dataset. It can be used for feature selection by evaluating the Information gain of each variable in the context of the target variable.    "
   ]
  },
  {
   "cell_type": "code",
   "execution_count": 42,
   "id": "03c8b17a",
   "metadata": {},
   "outputs": [
    {
     "name": "stderr",
     "output_type": "stream",
     "text": [
      "C:\\Users\\seanl\\AppData\\Roaming\\Python\\Python39\\site-packages\\sklearn\\utils\\validation.py:1111: DataConversionWarning: A column-vector y was passed when a 1d array was expected. Please change the shape of y to (n_samples, ), for example using ravel().\n",
      "  y = column_or_1d(y, warn=True)\n"
     ]
    },
    {
     "data": {
      "image/png": "[encoded data removed]",
      "text/plain": [
       "<Figure size 640x480 with 1 Axes>"
      ]
     },
     "metadata": {},
     "output_type": "display_data"
    }
   ],
   "source": [
    "importances=mutual_info_classif(X,Y)\n",
    "feature_importances=pd.Series(importances,final_merged_training_df.columns[0:len(final_merged_training_df.columns)-1])\n",
    "feature_importances.plot(kind='barh',color='teal')\n",
    "plt.show()"
   ]
  },
  {
   "cell_type": "markdown",
   "id": "841e65ba",
   "metadata": {},
   "source": [
    "<b>Fischer Score</b>\n",
    "\n",
    "Fisher score is one of the most widely used supervised feature selection methods. The algorithm we will use returns the ranks of the variables based on the fisher’s score in descending order. We can then select the variables as per the case."
   ]
  },
  {
   "cell_type": "code",
   "execution_count": 43,
   "id": "a3f13abe",
   "metadata": {},
   "outputs": [
    {
     "name": "stderr",
     "output_type": "stream",
     "text": [
      "\n",
      "[notice] A new release of pip is available: 23.1 -> 23.1.1\n",
      "[notice] To update, run: python.exe -m pip install --upgrade pip\n"
     ]
    },
    {
     "name": "stdout",
     "output_type": "stream",
     "text": [
      "Collecting skfeature-chappers\n",
      "  Downloading skfeature_chappers-1.1.0-py3-none-any.whl (66 kB)\n",
      "     ---------------------------------------- 66.3/66.3 kB 1.2 MB/s eta 0:00:00\n",
      "Requirement already satisfied: scikit-learn in c:\\users\\seanl\\appdata\\roaming\\python\\python39\\site-packages (from skfeature-chappers) (1.1.2)\n",
      "Requirement already satisfied: pandas in c:\\users\\seanl\\appdata\\roaming\\python\\python39\\site-packages (from skfeature-chappers) (1.5.0)\n",
      "Requirement already satisfied: numpy in c:\\users\\seanl\\appdata\\roaming\\python\\python39\\site-packages (from skfeature-chappers) (1.23.5)\n",
      "Requirement already satisfied: python-dateutil>=2.8.1 in c:\\users\\seanl\\appdata\\roaming\\python\\python39\\site-packages (from pandas->skfeature-chappers) (2.8.2)\n",
      "Requirement already satisfied: pytz>=2020.1 in c:\\users\\seanl\\appdata\\roaming\\python\\python39\\site-packages (from pandas->skfeature-chappers) (2022.4)\n",
      "Requirement already satisfied: scipy>=1.3.2 in c:\\users\\seanl\\appdata\\roaming\\python\\python39\\site-packages (from scikit-learn->skfeature-chappers) (1.9.1)\n",
      "Requirement already satisfied: joblib>=1.0.0 in c:\\users\\seanl\\appdata\\roaming\\python\\python39\\site-packages (from scikit-learn->skfeature-chappers) (1.2.0)\n",
      "Requirement already satisfied: threadpoolctl>=2.0.0 in c:\\users\\seanl\\appdata\\roaming\\python\\python39\\site-packages (from scikit-learn->skfeature-chappers) (3.1.0)\n",
      "Requirement already satisfied: six>=1.5 in c:\\users\\seanl\\appdata\\roaming\\python\\python39\\site-packages (from python-dateutil>=2.8.1->pandas->skfeature-chappers) (1.15.0)\n",
      "Installing collected packages: skfeature-chappers\n",
      "Successfully installed skfeature-chappers-1.1.0\n"
     ]
    }
   ],
   "source": [
    "!pip install skfeature-chappers"
   ]
  },
  {
   "cell_type": "code",
   "execution_count": 44,
   "id": "63e32e6e",
   "metadata": {},
   "outputs": [
    {
     "ename": "UnboundLocalError",
     "evalue": "local variable 'row' referenced before assignment",
     "output_type": "error",
     "traceback": [
      "\u001b[1;31m---------------------------------------------------------------------------\u001b[0m",
      "\u001b[1;31mUnboundLocalError\u001b[0m                         Traceback (most recent call last)",
      "Input \u001b[1;32mIn [44]\u001b[0m, in \u001b[0;36m<cell line: 4>\u001b[1;34m()\u001b[0m\n\u001b[0;32m      2\u001b[0m x_train\u001b[38;5;241m=\u001b[39mX\u001b[38;5;241m.\u001b[39mto_numpy()\n\u001b[0;32m      3\u001b[0m y_train\u001b[38;5;241m=\u001b[39mY\u001b[38;5;241m.\u001b[39mto_numpy()\n\u001b[1;32m----> 4\u001b[0m ranks1 \u001b[38;5;241m=\u001b[39m \u001b[43mfisher_score\u001b[49m\u001b[38;5;241;43m.\u001b[39;49m\u001b[43mfisher_score\u001b[49m\u001b[43m(\u001b[49m\u001b[43mx_train\u001b[49m\u001b[43m,\u001b[49m\u001b[43m \u001b[49m\u001b[43my_train\u001b[49m\u001b[43m,\u001b[49m\u001b[43mmode\u001b[49m\u001b[38;5;241;43m=\u001b[39;49m\u001b[38;5;124;43m'\u001b[39;49m\u001b[38;5;124;43mrank\u001b[39;49m\u001b[38;5;124;43m'\u001b[39;49m\u001b[43m)\u001b[49m\n\u001b[0;32m      5\u001b[0m feat_importances\u001b[38;5;241m=\u001b[39mpd\u001b[38;5;241m.\u001b[39mSeries(ranks,final_merged_training_df\u001b[38;5;241m.\u001b[39mcolumns[\u001b[38;5;241m0\u001b[39m:\u001b[38;5;28mlen\u001b[39m(final_merged_training_df\u001b[38;5;241m.\u001b[39mcolumns)\u001b[38;5;241m-\u001b[39m\u001b[38;5;241m1\u001b[39m])\n\u001b[0;32m      6\u001b[0m feat_importances\u001b[38;5;241m.\u001b[39mplot(kind\u001b[38;5;241m=\u001b[39m\u001b[38;5;124m'\u001b[39m\u001b[38;5;124mbarh\u001b[39m\u001b[38;5;124m'\u001b[39m,color\u001b[38;5;241m=\u001b[39m\u001b[38;5;124m'\u001b[39m\u001b[38;5;124mteal\u001b[39m\u001b[38;5;124m'\u001b[39m)\n",
      "File \u001b[1;32mC:\\ProgramData\\Anaconda3\\lib\\site-packages\\skfeature\\function\\similarity_based\\fisher_score.py:40\u001b[0m, in \u001b[0;36mfisher_score\u001b[1;34m(X, y, mode)\u001b[0m\n\u001b[0;32m     38\u001b[0m \u001b[38;5;66;03m# Construct weight matrix W in a fisherScore way\u001b[39;00m\n\u001b[0;32m     39\u001b[0m kwargs \u001b[38;5;241m=\u001b[39m {\u001b[38;5;124m\"\u001b[39m\u001b[38;5;124mneighbor_mode\u001b[39m\u001b[38;5;124m\"\u001b[39m: \u001b[38;5;124m\"\u001b[39m\u001b[38;5;124msupervised\u001b[39m\u001b[38;5;124m\"\u001b[39m, \u001b[38;5;124m\"\u001b[39m\u001b[38;5;124mfisher_score\u001b[39m\u001b[38;5;124m\"\u001b[39m: \u001b[38;5;28;01mTrue\u001b[39;00m, \u001b[38;5;124m\"\u001b[39m\u001b[38;5;124my\u001b[39m\u001b[38;5;124m\"\u001b[39m: y}\n\u001b[1;32m---> 40\u001b[0m W \u001b[38;5;241m=\u001b[39m construct_W(X, \u001b[38;5;241m*\u001b[39m\u001b[38;5;241m*\u001b[39mkwargs)\n\u001b[0;32m     42\u001b[0m \u001b[38;5;66;03m# build the diagonal D matrix from affinity matrix W\u001b[39;00m\n\u001b[0;32m     43\u001b[0m D \u001b[38;5;241m=\u001b[39m np\u001b[38;5;241m.\u001b[39marray(W\u001b[38;5;241m.\u001b[39msum(axis\u001b[38;5;241m=\u001b[39m\u001b[38;5;241m1\u001b[39m))\n",
      "File \u001b[1;32mC:\\ProgramData\\Anaconda3\\lib\\site-packages\\skfeature\\utility\\construct_W.py:195\u001b[0m, in \u001b[0;36mconstruct_W\u001b[1;34m(X, **kwargs)\u001b[0m\n\u001b[0;32m    193\u001b[0m         class_idx \u001b[38;5;241m=\u001b[39m y \u001b[38;5;241m==\u001b[39m label[i]\n\u001b[0;32m    194\u001b[0m         class_idx_all \u001b[38;5;241m=\u001b[39m class_idx[:, np\u001b[38;5;241m.\u001b[39mnewaxis] \u001b[38;5;241m&\u001b[39m class_idx[np\u001b[38;5;241m.\u001b[39mnewaxis, :]\n\u001b[1;32m--> 195\u001b[0m         \u001b[43mW\u001b[49m\u001b[43m[\u001b[49m\u001b[43mclass_idx_all\u001b[49m\u001b[43m]\u001b[49m \u001b[38;5;241m=\u001b[39m \u001b[38;5;241m1.0\u001b[39m \u001b[38;5;241m/\u001b[39m np\u001b[38;5;241m.\u001b[39msum(np\u001b[38;5;241m.\u001b[39msum(class_idx))\n\u001b[0;32m    196\u001b[0m     \u001b[38;5;28;01mreturn\u001b[39;00m W\n\u001b[0;32m    198\u001b[0m \u001b[38;5;66;03m# construct the weight matrix W in a reliefF way, NH(x) and NM(x,y) denotes a set of k nearest\u001b[39;00m\n\u001b[0;32m    199\u001b[0m \u001b[38;5;66;03m# points to x with the same class as x, a different class (the class y), respectively. W_ij = 1 if i = j;\u001b[39;00m\n\u001b[0;32m    200\u001b[0m \u001b[38;5;66;03m# W_ij = 1/k if x_j \\in NH(x_i); W_ij = -1/(c-1)k if x_j \\in NM(x_i, y)\u001b[39;00m\n",
      "File \u001b[1;32m~\\AppData\\Roaming\\Python\\Python39\\site-packages\\scipy\\sparse\\_lil.py:332\u001b[0m, in \u001b[0;36mlil_matrix.__setitem__\u001b[1;34m(self, key, x)\u001b[0m\n\u001b[0;32m    330\u001b[0m     \u001b[38;5;28;01mreturn\u001b[39;00m \u001b[38;5;28mself\u001b[39m\u001b[38;5;241m.\u001b[39m_set_intXint(key[\u001b[38;5;241m0\u001b[39m], key[\u001b[38;5;241m1\u001b[39m], x)\n\u001b[0;32m    331\u001b[0m \u001b[38;5;66;03m# Everything else takes the normal path.\u001b[39;00m\n\u001b[1;32m--> 332\u001b[0m \u001b[43mIndexMixin\u001b[49m\u001b[38;5;241;43m.\u001b[39;49m\u001b[38;5;21;43m__setitem__\u001b[39;49m\u001b[43m(\u001b[49m\u001b[38;5;28;43mself\u001b[39;49m\u001b[43m,\u001b[49m\u001b[43m \u001b[49m\u001b[43mkey\u001b[49m\u001b[43m,\u001b[49m\u001b[43m \u001b[49m\u001b[43mx\u001b[49m\u001b[43m)\u001b[49m\n",
      "File \u001b[1;32m~\\AppData\\Roaming\\Python\\Python39\\site-packages\\scipy\\sparse\\_index.py:97\u001b[0m, in \u001b[0;36mIndexMixin.__setitem__\u001b[1;34m(self, key, x)\u001b[0m\n\u001b[0;32m     96\u001b[0m \u001b[38;5;28;01mdef\u001b[39;00m \u001b[38;5;21m__setitem__\u001b[39m(\u001b[38;5;28mself\u001b[39m, key, x):\n\u001b[1;32m---> 97\u001b[0m     row, col \u001b[38;5;241m=\u001b[39m \u001b[38;5;28;43mself\u001b[39;49m\u001b[38;5;241;43m.\u001b[39;49m\u001b[43m_validate_indices\u001b[49m\u001b[43m(\u001b[49m\u001b[43mkey\u001b[49m\u001b[43m)\u001b[49m\n\u001b[0;32m     99\u001b[0m     \u001b[38;5;28;01mif\u001b[39;00m \u001b[38;5;28misinstance\u001b[39m(row, INT_TYPES) \u001b[38;5;129;01mand\u001b[39;00m \u001b[38;5;28misinstance\u001b[39m(col, INT_TYPES):\n\u001b[0;32m    100\u001b[0m         x \u001b[38;5;241m=\u001b[39m np\u001b[38;5;241m.\u001b[39masarray(x, dtype\u001b[38;5;241m=\u001b[39m\u001b[38;5;28mself\u001b[39m\u001b[38;5;241m.\u001b[39mdtype)\n",
      "File \u001b[1;32m~\\AppData\\Roaming\\Python\\Python39\\site-packages\\scipy\\sparse\\_index.py:150\u001b[0m, in \u001b[0;36mIndexMixin._validate_indices\u001b[1;34m(self, key)\u001b[0m\n\u001b[0;32m    148\u001b[0m \u001b[38;5;28;01mdef\u001b[39;00m \u001b[38;5;21m_validate_indices\u001b[39m(\u001b[38;5;28mself\u001b[39m, key):\n\u001b[0;32m    149\u001b[0m     M, N \u001b[38;5;241m=\u001b[39m \u001b[38;5;28mself\u001b[39m\u001b[38;5;241m.\u001b[39mshape\n\u001b[1;32m--> 150\u001b[0m     row, col \u001b[38;5;241m=\u001b[39m \u001b[43m_unpack_index\u001b[49m\u001b[43m(\u001b[49m\u001b[43mkey\u001b[49m\u001b[43m)\u001b[49m\n\u001b[0;32m    152\u001b[0m     \u001b[38;5;28;01mif\u001b[39;00m isintlike(row):\n\u001b[0;32m    153\u001b[0m         row \u001b[38;5;241m=\u001b[39m \u001b[38;5;28mint\u001b[39m(row)\n",
      "File \u001b[1;32m~\\AppData\\Roaming\\Python\\Python39\\site-packages\\scipy\\sparse\\_index.py:297\u001b[0m, in \u001b[0;36m_unpack_index\u001b[1;34m(index)\u001b[0m\n\u001b[0;32m    295\u001b[0m         \u001b[38;5;28;01mreturn\u001b[39;00m idx\u001b[38;5;241m.\u001b[39mnonzero()\n\u001b[0;32m    296\u001b[0m \u001b[38;5;66;03m# Next, check for validity and transform the index as needed.\u001b[39;00m\n\u001b[1;32m--> 297\u001b[0m \u001b[38;5;28;01mif\u001b[39;00m isspmatrix(\u001b[43mrow\u001b[49m) \u001b[38;5;129;01mor\u001b[39;00m isspmatrix(col):\n\u001b[0;32m    298\u001b[0m     \u001b[38;5;66;03m# Supporting sparse boolean indexing with both row and col does\u001b[39;00m\n\u001b[0;32m    299\u001b[0m     \u001b[38;5;66;03m# not work because spmatrix.ndim is always 2.\u001b[39;00m\n\u001b[0;32m    300\u001b[0m     \u001b[38;5;28;01mraise\u001b[39;00m \u001b[38;5;167;01mIndexError\u001b[39;00m(\n\u001b[0;32m    301\u001b[0m         \u001b[38;5;124m'\u001b[39m\u001b[38;5;124mIndexing with sparse matrices is not supported \u001b[39m\u001b[38;5;124m'\u001b[39m\n\u001b[0;32m    302\u001b[0m         \u001b[38;5;124m'\u001b[39m\u001b[38;5;124mexcept boolean indexing where matrix and index \u001b[39m\u001b[38;5;124m'\u001b[39m\n\u001b[0;32m    303\u001b[0m         \u001b[38;5;124m'\u001b[39m\u001b[38;5;124mare equal shapes.\u001b[39m\u001b[38;5;124m'\u001b[39m)\n\u001b[0;32m    304\u001b[0m bool_row \u001b[38;5;241m=\u001b[39m _compatible_boolean_index(row)\n",
      "\u001b[1;31mUnboundLocalError\u001b[0m: local variable 'row' referenced before assignment"
     ]
    }
   ],
   "source": [
    "from skfeature.function.similarity_based import fisher_score\n",
    "x_train=X.to_numpy()\n",
    "y_train=Y.to_numpy()\n",
    "ranks1 = fisher_score.fisher_score(x_train, y_train,mode='rank')\n",
    "feat_importances=pd.Series(ranks,final_merged_training_df.columns[0:len(final_merged_training_df.columns)-1])\n",
    "feat_importances.plot(kind='barh',color='teal')\n",
    "plt.show()"
   ]
  },
  {
   "cell_type": "markdown",
   "id": "a346e2d8",
   "metadata": {},
   "source": [
    "<b> Correlation Coefficient</b>\n",
    "\n",
    "Correlation is a measure of the linear relationship between 2 or more variables. Through correlation, we can predict one variable from the other. The logic behind using correlation for feature selection is that good variables correlate highly with the target. Furthermore, variables should be correlated with the target but uncorrelated among themselves."
   ]
  },
  {
   "cell_type": "code",
   "execution_count": null,
   "id": "2d61448e",
   "metadata": {},
   "outputs": [],
   "source": [
    "cor=final_merged_training_df.corr()\n",
    "plt.figure(figsize=(10,6))\n",
    "sns.heatmap(cor,annot=True)"
   ]
  },
  {
   "cell_type": "code",
   "execution_count": null,
   "id": "71323f60",
   "metadata": {},
   "outputs": [],
   "source": [
    "#!pip install mlxtend"
   ]
  },
  {
   "cell_type": "markdown",
   "id": "7f2b3aaf",
   "metadata": {},
   "source": [
    "<b>Exhaustive Feature Selection</b>\n",
    "\n",
    "This is the most robust feature selection method covered so far. This is a brute-force evaluation of each feature subset. This means it tries every possible combination of the variables and returns the best-performing subset."
   ]
  },
  {
   "cell_type": "code",
   "execution_count": null,
   "id": "224c81d4",
   "metadata": {},
   "outputs": [],
   "source": [
    "from mlxtend.feature_selection import *\n",
    "from sklearn.ensemble import RandomForestClassifier\n",
    "# create the ExhaustiveFeatureSelector object.\n",
    "efs = ExhaustiveFeatureSelector (RandomForestClassifier (),min_features=4,max_features=8,scoring='roc_auc',cv=2)"
   ]
  },
  {
   "cell_type": "code",
   "execution_count": null,
   "id": "10ef2788",
   "metadata": {},
   "outputs": [],
   "source": [
    "efs = efs.fit (X, Y)"
   ]
  },
  {
   "cell_type": "code",
   "execution_count": null,
   "id": "64b2f5db",
   "metadata": {},
   "outputs": [],
   "source": [
    "#print selected features\n",
    "selected_features = final_merged_training_df.columns[list(efs.best_idx_)]\n",
    "print(selected_features)"
   ]
  },
  {
   "cell_type": "code",
   "execution_count": null,
   "id": "8f04ee5b",
   "metadata": {},
   "outputs": [],
   "source": [
    "# print the final prediction score.\n",
    "print(efs.best_score_)"
   ]
  },
  {
   "cell_type": "markdown",
   "id": "47d8e01b",
   "metadata": {},
   "source": [
    "<b>Random Forest Importance</b>\n",
    "\n",
    "Random Forests is a kind of Bagging Algorithm that aggregates a specified number of decision trees. The tree-based strategies used by random forests naturally rank by how well they improve the purity of the node, or in other words, a decrease in the impurity (Gini impurity) over all trees. Nodes with the greatest decrease in impurity happen at the start of the trees, while nodes with the least decrease in impurity occur at the end of the trees. Thus, by pruning trees below a particular node, we can create a subset of the most important features."
   ]
  },
  {
   "cell_type": "code",
   "execution_count": null,
   "id": "9664e000",
   "metadata": {},
   "outputs": [],
   "source": [
    "from sklearn.ensemble import RandomForestClassifier\n",
    "#create the random forest with your hyperparameters.\n",
    "model = RandomForestClassifier (n_estimators=140)\n",
    "# fit the model to start training.\n",
    "model.fit(X, Y)"
   ]
  },
  {
   "cell_type": "code",
   "execution_count": null,
   "id": "3e5a7dfc",
   "metadata": {},
   "outputs": [],
   "source": [
    "#get the importance of the resulting features.\n",
    "importances = model. feature_importances_\n",
    "# create a data frame for visualization\n",
    "final_df = pd.DataFrame({\"Features\": X.columns, \"Importances\" : importances})\n",
    "final_df.set_index('Importances')\n",
    "# sort in ascending order to better visualization.\n",
    "final_df = final_df.sort_values('Importances')\n",
    "# plot the feature importances in bars.\n",
    "final_df.plot.bar(color = 'teal')"
   ]
  },
  {
   "cell_type": "markdown",
   "id": "c7b9aeaf",
   "metadata": {},
   "source": [
    "### PCA (Principal Component Analysis)\n",
    "\n",
    "PCA is a dimensionality reduction approach that converts a dataset’s columns into a new group of characteristics called Principal Components (PCs). The variance in a column is the information contained in it. The main aim of Principal Components is to express data in the smallest number of columns possible.\n",
    "\n",
    "PCA is a process for reducing the complexity of high-dimensional data while preserving trends and patterns. It accomplishes this by condensing the data into fewer components, which can be assumed as feature summaries.\n",
    "\n",
    "Components are unrelated features that are composites of the original features. They are also assigned so that the first has the most variance in the data, the second for the second most variance, and so on.\n",
    "\n",
    "PCA is highly beneficial when working with large data sets with many characteristics. Image processing and genomic research are two examples of typical applications that deal with hundreds, if not tens of thousands, of columns."
   ]
  },
  {
   "cell_type": "markdown",
   "id": "662c2e8b",
   "metadata": {},
   "source": [
    "# Prediction model "
   ]
  },
  {
   "cell_type": "code",
   "execution_count": null,
   "id": "7491f42b",
   "metadata": {},
   "outputs": [],
   "source": [
    "import pandas as pd\n",
    "df = pd.read_csv(\"./Dataset/train_format1.csv\")"
   ]
  },
  {
   "cell_type": "code",
   "execution_count": null,
   "id": "b5ae935b",
   "metadata": {},
   "outputs": [],
   "source": [
    "from sklearn.feature_selection import SelectKBest\n",
    "from sklearn.feature_selection import f_classif\n",
    "from sklearn.model_selection import train_test_split\n",
    "\n",
    "\n",
    "# Assuming that 'target' is the name of the column containing the target variable\n",
    "X = df.drop('label', axis=1)\n",
    "y = df['label']\n",
    "\n",
    "# Split the data into train and test sets with a 80:20 ratio\n",
    "train, test = train_test_split(df, test_size=0.2)\n",
    "train_X, train_y = train.drop('label', axis=1), train['label']\n",
    "test_X, test_y = test.drop('label', axis=1), test['label']\n",
    "\n",
    "\n",
    "# X is the input features and y is the target variable\n",
    "selector = SelectKBest(score_func=f_classif, k=10)\n",
    "X_new = selector.fit_transform(X, y)"
   ]
  },
  {
   "cell_type": "code",
   "execution_count": null,
   "id": "e8085a86",
   "metadata": {},
   "outputs": [],
   "source": [
    "# Correlated features need to be removed\n",
    "import numpy as np\n",
    "\n",
    "# X is the input features\n",
    "corr_matrix = np.corrcoef(X, rowvar=False)\n",
    "corr_matrix[np.isnan(corr_matrix)] = 0\n",
    "\n",
    "# Remove highly correlated features\n",
    "features_to_keep = set(range(X.shape[1]))\n",
    "for i in range(X.shape[1]):\n",
    "    for j in range(i):\n",
    "        if corr_matrix[i, j] > 0.9:\n",
    "            if selector.scores_[i] > selector.scores_[j]:\n",
    "                features_to_keep.discard(j)\n",
    "            else:\n",
    "                features_to_keep.discard(i)\n",
    "X_new = X[:, list(features_to_keep)]\n"
   ]
  },
  {
   "cell_type": "code",
   "execution_count": null,
   "id": "d50dddd5",
   "metadata": {},
   "outputs": [],
   "source": [
    "#bayes classifier\n",
    "from sklearn.naive_bayes import GaussianNB\n",
    "from sklearn.model_selection import train_test_split\n",
    "from sklearn.metrics import accuracy_score\n",
    "\n",
    "# X is the input features and y is the target variable\n",
    "X_train, X_test, y_train, y_test = train_test_split(X, y, test_size=0.2)\n",
    "clf = GaussianNB()\n",
    "clf.fit(X_train, y_train)\n",
    "y_pred_train = clf.predict(X_train)\n",
    "y_pred_test = clf.predict(X_test)\n",
    "accuracy_train = accuracy_score(y_train, y_pred_train)\n",
    "accuracy_test = accuracy_score(y_test, y_pred_test)\n"
   ]
  },
  {
   "cell_type": "markdown",
   "id": "a0776034",
   "metadata": {},
   "source": [
    "# Model evaluation "
   ]
  },
  {
   "cell_type": "code",
   "execution_count": null,
   "id": "aece1ac8",
   "metadata": {},
   "outputs": [],
   "source": []
  }
 ],
 "metadata": {
  "kernelspec": {
   "display_name": "Python 3 (ipykernel)",
   "language": "python",
   "name": "python3"
  },
  "language_info": {
   "codemirror_mode": {
    "name": "ipython",
    "version": 3
   },
   "file_extension": ".py",
   "mimetype": "text/x-python",
   "name": "python",
   "nbconvert_exporter": "python",
   "pygments_lexer": "ipython3",
   "version": "3.9.13"
  }
 },
 "nbformat": 4,
 "nbformat_minor": 5
}
