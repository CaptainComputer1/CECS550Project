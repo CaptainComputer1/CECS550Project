{
 "cells": [
  {
   "cell_type": "code",
   "execution_count": 59,
   "metadata": {
    "colab": {
     "base_uri": "https://localhost:8080/",
     "height": 345
    },
    "id": "LX_at7lXmmgw",
    "outputId": "23483621-1255-4d25-c809-420eb7fc5f7b"
   },
   "outputs": [],
   "source": [
    "import pandas as pd\n",
    "logs = pd.read_csv('Dataset/updated_train.csv')"
   ]
  },
  {
   "cell_type": "code",
   "execution_count": 60,
   "metadata": {
    "id": "3UFwrPogbDWr"
   },
   "outputs": [
    {
     "name": "stdout",
     "output_type": "stream",
     "text": [
      "Values:\n",
      "0    339\n",
      "1     62\n",
      "Name: label, dtype: int64\n"
     ]
    }
   ],
   "source": [
    "\n",
    "from sklearn.utils import resample\n",
    "\n",
    "# Assuming 'user_logs' is your dataset and 'label' is the target column\n",
    "print(\"Values:\")\n",
    "print(logs['label'].value_counts())"
   ]
  },
  {
   "cell_type": "code",
   "execution_count": 61,
   "metadata": {
    "id": "zLqAq1_1bKgD"
   },
   "outputs": [],
   "source": [
    "# Fisher Score Threshold 10\n",
    "# logs = logs.drop(['item_id', 'cat_affinity', 'time_stamp' , 'cat_id', 'click_to_purchase_ratio', 'average_order_value', 'promo_engagement', 'pages_viewed', 'days_since_first_interaction', 'days_since_last_interaction', 'unique_users', 'add_to_cart_to_purchase_ratio', 'clicks'], axis=1)\n",
    "\n",
    "# Random Forest Highest Scores 0.2\n",
    "logs = logs.drop(['1', 'add_to_cart', '2', 'day_of_week', 'purchases', 'gender', 'average_order_value', '3', 'action_type', 'time_stamp'], axis=1)"
   ]
  },
  {
   "cell_type": "code",
   "execution_count": 62,
   "metadata": {
    "id": "7LrNOSkBbLpD"
   },
   "outputs": [],
   "source": [
    "from imblearn.over_sampling import SMOTE\n",
    "from imblearn.under_sampling import RandomUnderSampler\n",
    "from imblearn.pipeline import Pipeline\n",
    "from sklearn.model_selection import train_test_split\n",
    "\n",
    "X = logs.drop(['label'], axis=1)\n",
    "y = logs['label']\n",
    "\n",
    "# Split the data into training and testing sets\n",
    "X_train, X_test, y_train, y_test = train_test_split(X, y, test_size=0.2, random_state=42)\n",
    "\n",
    "# Oversample the minority class and undersample the majority class\n",
    "over = SMOTE(sampling_strategy=0.5)\n",
    "\n",
    "# Convert all column names to string data type\n",
    "X_train.columns = X_train.columns.astype(str)\n",
    "X_test.columns = X_test.columns.astype(str)\n",
    "\n",
    "# Create a pipeline to combine both sampling techniques\n",
    "pipeline = Pipeline(steps=[('o', over)])\n",
    "X_train, y_train= pipeline.fit_resample(X_train, y_train)"
   ]
  },
  {
   "cell_type": "code",
   "execution_count": 63,
   "metadata": {
    "id": "5hUyiCnubM8O"
   },
   "outputs": [
    {
     "name": "stdout",
     "output_type": "stream",
     "text": [
      "0    269\n",
      "1    134\n",
      "Name: label, dtype: int64\n"
     ]
    }
   ],
   "source": [
    "label_distribution = pd.Series(y_train).value_counts()\n",
    "print(label_distribution)"
   ]
  },
  {
   "cell_type": "code",
   "execution_count": 64,
   "metadata": {
    "id": "b-0OnnslbOE0"
   },
   "outputs": [],
   "source": [
    "from sklearn.preprocessing import StandardScaler\n",
    "from sklearn.feature_selection import SelectKBest, chi2, f_classif\n",
    "from sklearn.decomposition import PCA\n",
    "from sklearn.impute import SimpleImputer\n",
    "import numpy as np\n",
    "\n",
    "# Replace missing values with the mean of the respective column\n",
    "imputer = SimpleImputer(missing_values=np.nan, strategy='mean')\n",
    "X_train = imputer.fit_transform(X_train)\n",
    "X_test = imputer.transform(X_test)\n",
    "\n",
    "# Scale the features using StandardScaler\n",
    "scaler = StandardScaler()\n",
    "X_train_scaled = scaler.fit_transform(X_train)\n",
    "X_test_scaled = scaler.transform(X_test)\n",
    "\n",
    "# Perform PCA for feature selection\n",
    "pca = PCA(n_components=20)\n",
    "X_train_pca = pca.fit_transform(X_train_scaled)\n",
    "X_test_pca = pca.transform(X_test_scaled)"
   ]
  },
  {
   "cell_type": "code",
   "execution_count": 65,
   "metadata": {
    "id": "Ev_OR9LsbOV3"
   },
   "outputs": [
    {
     "name": "stdout",
     "output_type": "stream",
     "text": [
      "Gaussian Accuracy: 0.7654320987654321\n",
      "Gaussian F1 score: 0.7875691783737759\n",
      "Gaussian Precision: 0.8196159122085047\n",
      "Gaussian Recall: 0.7654320987654321\n",
      "Gaussian ROC-AUC score: 0.6344155844155844\n"
     ]
    }
   ],
   "source": [
    "from sklearn.naive_bayes import GaussianNB\n",
    "from sklearn.metrics import accuracy_score, f1_score, precision_score, recall_score, roc_auc_score\n",
    "\n",
    "# Train a Naive Bayes classifier\n",
    "nb_classifier = GaussianNB()\n",
    "nb_classifier.fit(X_train_pca, y_train)\n",
    "\n",
    "# Predict the class labels for the test data using the trained classifier\n",
    "y_pred = nb_classifier.predict(X_test_pca)\n",
    "\n",
    "# Calculate the evaluation metrics of the classifier\n",
    "gauss_accuracy = accuracy_score(y_test, y_pred)\n",
    "gauss_f1 = f1_score(y_test, y_pred, average='weighted')\n",
    "gauss_precision = precision_score(y_test, y_pred, average='weighted')\n",
    "gauss_recall = recall_score(y_test, y_pred, average='weighted')\n",
    "gauss_roc_auc = roc_auc_score(y_test, y_pred, multi_class='ovo')\n",
    "\n",
    "# Print the evaluation metrics of the classifier\n",
    "print(\"Gaussian Accuracy:\", gauss_accuracy)\n",
    "print(\"Gaussian F1 score:\", gauss_f1)\n",
    "print(\"Gaussian Precision:\", gauss_precision)\n",
    "print(\"Gaussian Recall:\", gauss_recall)\n",
    "print(\"Gaussian ROC-AUC score:\", gauss_roc_auc)"
   ]
  },
  {
   "cell_type": "code",
   "execution_count": 66,
   "metadata": {
    "id": "n5aobbMLbPUN"
   },
   "outputs": [
    {
     "name": "stdout",
     "output_type": "stream",
     "text": [
      "Log Accuracy: 0.8395061728395061\n",
      "Log F1 score: 0.8513946044810242\n",
      "Log Precision: 0.8704297245963912\n",
      "Log Recall: 0.8395061728395061\n",
      "Log ROC-AUC score: 0.7538961038961038\n"
     ]
    }
   ],
   "source": [
    "from sklearn.linear_model import LogisticRegression\n",
    "\n",
    "# Train a Logistic Regression classifier using maximum likelihood estimation\n",
    "lr_classifier = LogisticRegression(solver='lbfgs', multi_class='auto')\n",
    "lr_classifier.fit(X_train_pca, y_train)\n",
    "\n",
    "# Predict the class labels for the test data using the trained classifier\n",
    "y_pred = lr_classifier.predict(X_test_pca)\n",
    "\n",
    "# Calculate the evaluation metrics of the classifier\n",
    "log_accuracy = accuracy_score(y_test, y_pred)\n",
    "log_f1 = f1_score(y_test, y_pred, average='weighted')\n",
    "log_precision = precision_score(y_test, y_pred, average='weighted')\n",
    "log_recall = recall_score(y_test, y_pred, average='weighted')\n",
    "log_roc_auc = roc_auc_score(y_test, y_pred, multi_class='ovo')\n",
    "\n",
    "# Print the evaluation metrics of the classifier\n",
    "print(\"Log Accuracy:\", log_accuracy)\n",
    "print(\"Log F1 score:\", log_f1)\n",
    "print(\"Log Precision:\", log_precision)\n",
    "print(\"Log Recall:\", log_recall)\n",
    "print(\"Log ROC-AUC score:\", log_roc_auc)"
   ]
  },
  {
   "cell_type": "code",
   "execution_count": 67,
   "metadata": {
    "id": "13cIk1BIbRGp"
   },
   "outputs": [
    {
     "name": "stdout",
     "output_type": "stream",
     "text": [
      "LDF Accuracy: 0.8024691358024691\n",
      "LDF F1 score: 0.8192108241859484\n",
      "LDF Precision: 0.8446123819898329\n",
      "LDF Recall: 0.8024691358024691\n",
      "LDF ROC-AUC score: 0.6941558441558441\n"
     ]
    }
   ],
   "source": [
    "from sklearn.discriminant_analysis import LinearDiscriminantAnalysis\n",
    "\n",
    "# Train a Linear Discriminant Analysis classifier on the training set\n",
    "lda_classifier = LinearDiscriminantAnalysis()\n",
    "lda_classifier.fit(X_train_pca, y_train)\n",
    "\n",
    "# Predict the class labels for the test data using the trained classifier\n",
    "y_pred = lda_classifier.predict(X_test_pca)\n",
    "\n",
    "# Calculate the evaluation metrics of the classifier\n",
    "ldf_accuracy = accuracy_score(y_test, y_pred)\n",
    "ldf_f1 = f1_score(y_test, y_pred, average='weighted')\n",
    "ldf_precision = precision_score(y_test, y_pred, average='weighted')\n",
    "ldf_recall = recall_score(y_test, y_pred, average='weighted')\n",
    "ldf_roc_auc = roc_auc_score(y_test, y_pred, multi_class='ovo')\n",
    "\n",
    "# Print the evaluation metrics of the classifier\n",
    "print(\"LDF Accuracy:\", ldf_accuracy)\n",
    "print(\"LDF F1 score:\", ldf_f1)\n",
    "print(\"LDF Precision:\", ldf_precision)\n",
    "print(\"LDF Recall:\", ldf_recall)\n",
    "print(\"LDF ROC-AUC score:\", ldf_roc_auc)"
   ]
  },
  {
   "cell_type": "code",
   "execution_count": 68,
   "metadata": {
    "id": "13WDDaltbSXW"
   },
   "outputs": [
    {
     "name": "stdout",
     "output_type": "stream",
     "text": [
      "Best parameters: {'algorithm': 'ball_tree', 'leaf_size': 10, 'metric': 'euclidean', 'n_neighbors': 1, 'p': 1, 'weights': 'uniform'}\n",
      "KNN Accuracy: 0.9382716049382716\n",
      "KNN F1 score: 0.8\n",
      "KNN Precision: 0.7142857142857143\n",
      "KNN Recall: 0.9090909090909091\n",
      "KNN ROC-AUC score: 0.925974025974026\n"
     ]
    }
   ],
   "source": [
    "from sklearn.neighbors import KNeighborsClassifier\n",
    "from sklearn.model_selection import GridSearchCV\n",
    "\n",
    "knn = KNeighborsClassifier()\n",
    "param_grid = {\n",
    "    'n_neighbors': [1, 2, 3, 4, 5],\n",
    "    'weights': ['uniform', 'distance'],\n",
    "    'p': [1, 2],\n",
    "    'leaf_size': [10, 20, 30],\n",
    "    'algorithm': ['ball_tree', 'kd_tree', 'brute'],\n",
    "    'metric': ['cityblock', 'euclidean', 'manhattan', 'l1', 'l2']\n",
    "}\n",
    "\n",
    "grid_search = GridSearchCV(knn, param_grid, scoring='f1', cv=5)\n",
    "grid_search.fit(X_train_pca, y_train)\n",
    "\n",
    "best_knn = grid_search.best_estimator_\n",
    "print(\"Best parameters:\", grid_search.best_params_)\n",
    "\n",
    "# Predict the class labels for the test data using the trained classifier\n",
    "y_pred = best_knn.predict(X_test_pca)\n",
    "\n",
    "# Calculate the evaluation metrics of the classifier\n",
    "knn_accuracy = accuracy_score(y_test, y_pred)\n",
    "knn_f1 = f1_score(y_test, y_pred)\n",
    "knn_precision = precision_score(y_test, y_pred)\n",
    "knn_recall = recall_score(y_test, y_pred)\n",
    "knn_roc_auc = roc_auc_score(y_test, y_pred)\n",
    "\n",
    "# Print the evaluation metrics of the classifier\n",
    "print(\"KNN Accuracy:\", knn_accuracy)\n",
    "print(\"KNN F1 score:\", knn_f1)\n",
    "print(\"KNN Precision:\", knn_precision)\n",
    "print(\"KNN Recall:\", knn_recall)\n",
    "print(\"KNN ROC-AUC score:\", knn_roc_auc)"
   ]
  },
  {
   "cell_type": "code",
   "execution_count": 69,
   "metadata": {},
   "outputs": [
    {
     "name": "stderr",
     "output_type": "stream",
     "text": [
      "C:\\Users\\seanl\\AppData\\Local\\Temp\\ipykernel_9424\\3564177157.py:10: DeprecationWarning: Please use `gaussian_kde` from the `scipy.stats` namespace, the `scipy.stats.kde` namespace is deprecated.\n",
      "  df_class0_kde = kde.gaussian_kde(df_train[df_train[\"label\"]==0].T[0:df_train_cols], bw_method='scott')\n",
      "C:\\Users\\seanl\\AppData\\Local\\Temp\\ipykernel_9424\\3564177157.py:11: DeprecationWarning: Please use `gaussian_kde` from the `scipy.stats` namespace, the `scipy.stats.kde` namespace is deprecated.\n",
      "  df_class1_kde = kde.gaussian_kde(df_train[df_train[\"label\"]==1].T[0:df_train_cols], bw_method='scott')\n"
     ]
    }
   ],
   "source": [
    "#Parzen window technique\n",
    "from scipy.stats import kde\n",
    "\n",
    "if not isinstance(X_train_pca, pd.DataFrame):\n",
    "    X_train_pca = pd.DataFrame(X_train_pca, columns=X_train_pca.dtype.names)\n",
    "\n",
    "df_train = X_train_pca.assign(label=y_train)\n",
    "df_train_cols = df_train.shape[1]-1\n",
    "\n",
    "df_class0_kde = kde.gaussian_kde(df_train[df_train[\"label\"]==0].T[0:df_train_cols], bw_method='scott')\n",
    "df_class1_kde = kde.gaussian_kde(df_train[df_train[\"label\"]==1].T[0:df_train_cols], bw_method='scott')\n"
   ]
  },
  {
   "cell_type": "code",
   "execution_count": 70,
   "metadata": {},
   "outputs": [],
   "source": [
    "def classifier_eval(X, y_true, classifier_func, classifier_func_args):\n",
    "    \"\"\"\n",
    "    Keyword arguments:\n",
    "        X: 'n x (d-1)'- dimensional numpy array, with all X data.\n",
    "        y_true: 'n x 1'- dimensional numpy array of class label for X data.\n",
    "        classifier_func: Function that returns the max argument from the discriminant function.\n",
    "            evaluation and the class label as a tuple.\n",
    "        classifier_func_args: List of arguments for the 'classifier_func'.\n",
    "    \n",
    "    Returns a tuple, consisting of the accuracy, F1 score, precision, recall, and ROC curve.\n",
    "    \"\"\"\n",
    "    y_pred = []\n",
    "    for row in X:\n",
    "        g = classifier_func(row, *classifier_func_args)\n",
    "        y_pred.append(g[1])\n",
    "    \n",
    "    #Calculate evaluation metrics of the classifier\n",
    "    accuracy = accuracy_score(y_true, y_pred)\n",
    "    f1 = f1_score(y_true, y_pred, average='weighted')\n",
    "    precision = precision_score(y_true, y_pred, average='weighted')\n",
    "    recall = recall_score(y_true, y_pred, average='weighted')\n",
    "    roc_auc = roc_auc_score(y_true, y_pred, multi_class='ovo')\n",
    "    \n",
    "    return (accuracy, f1, precision, recall, roc_auc)"
   ]
  },
  {
   "cell_type": "code",
   "execution_count": 71,
   "metadata": {},
   "outputs": [],
   "source": [
    "import operator\n",
    "\n",
    "def bayes_classifier(x_vec, kdes):\n",
    "    \"\"\"\n",
    "    Classifies an input sample into class w_j determined by\n",
    "    maximizing the class conditional probability for p(x|w_j).\n",
    "\n",
    "    Keyword arguments:\n",
    "        x_vec: A dx1 dimensional numpy array representing the sample.\n",
    "        kdes: List of the gausssian_kde (kernel density) estimates\n",
    "\n",
    "    Returns a tuple ( p(x|w_j)_value, class label ).\n",
    "\n",
    "    \"\"\"\n",
    "    p_vals = []\n",
    "    for kde in kdes:\n",
    "        p_vals.append(kde.evaluate(x_vec))\n",
    "    max_index, max_value = max(enumerate(p_vals), key=operator.itemgetter(1))\n",
    "    return (max_value, max_index)"
   ]
  },
  {
   "cell_type": "code",
   "execution_count": 72,
   "metadata": {},
   "outputs": [
    {
     "name": "stdout",
     "output_type": "stream",
     "text": [
      "Parzen Window Accuracy:       0.8888888888888888\n",
      "Parzen Window F1 score:       0.8870067651162178\n",
      "Parzen Window Precision:      0.9139957264957265\n",
      "Parzen Window Recall:         0.8765432098765432\n",
      "Parzen Window ROC-AUC Score:  0.851948051948052\n"
     ]
    }
   ],
   "source": [
    "if not isinstance(X_test_pca, np.ndarray):\n",
    "    X_test_pca = X_test_pca.to_numpy()\n",
    "pw_accuracy, pw_f1, pw_precision, pw_recall, pw_roc_auc = classifier_eval(X_test_pca, \\\n",
    "    y_test, bayes_classifier, [[df_class0_kde, df_class1_kde]])\n",
    "\n",
    "#print(\"df class dict:        \", df_class_dict)\n",
    "#print(\"df error:             \", df_err)\n",
    "print(\"Parzen Window Accuracy:      \", pw_acc)\n",
    "print(\"Parzen Window F1 score:      \", pw_f1)\n",
    "print(\"Parzen Window Precision:     \", pw_prec)\n",
    "print(\"Parzen Window Recall:        \", pw_recall)\n",
    "print(\"Parzen Window ROC-AUC Score: \", pw_roc_auc)"
   ]
  },
  {
   "cell_type": "code",
   "execution_count": 73,
   "metadata": {
    "id": "Jd08yUL4bUuV"
   },
   "outputs": [
    {
     "name": "stdout",
     "output_type": "stream",
     "text": [
      "XGBoost Accuracy: 0.9382716049382716\n",
      "XGBoost F1 score: 0.761904761904762\n",
      "XGBoost Precision: 0.8\n",
      "XGBoost Recall: 0.7272727272727273\n",
      "XGBoost ROC-AUC score: 0.8493506493506493\n"
     ]
    }
   ],
   "source": [
    "import xgboost as xgb\n",
    "from sklearn.metrics import accuracy_score, f1_score, precision_score, recall_score, roc_auc_score\n",
    "\n",
    "# Replace these with the best parameters obtained from GridSearchCV\n",
    "best_params = {\n",
    "    'n_estimators': 200,\n",
    "    'max_depth': 7,\n",
    "    'learning_rate': 0.2,\n",
    "    'subsample': 0.8,\n",
    "    'colsample_bytree': 1.0,\n",
    "    'gamma': 0\n",
    "}\n",
    "\n",
    "# Create an XGBoost classifier with the best parameters\n",
    "xgb_classifier = xgb.XGBClassifier(\n",
    "    eval_metric='logloss',\n",
    "    random_state=42,\n",
    "    **best_params\n",
    ")\n",
    "\n",
    "# Train the classifier on the training data\n",
    "xgb_classifier.fit(X_train, y_train)\n",
    "\n",
    "# Predict the class labels for the test data using the trained classifier\n",
    "y_pred = xgb_classifier.predict(X_test)\n",
    "\n",
    "# Calculate the evaluation metrics of the classifier\n",
    "xgb_accuracy = accuracy_score(y_test, y_pred)\n",
    "xgb_f1 = f1_score(y_test, y_pred)\n",
    "xgb_precision = precision_score(y_test, y_pred)\n",
    "xgb_recall = recall_score(y_test, y_pred)\n",
    "xgb_roc_auc = roc_auc_score(y_test, y_pred)\n",
    "\n",
    "# Print the evaluation metrics of the classifier\n",
    "print(\"XGBoost Accuracy:\", xgb_accuracy)\n",
    "print(\"XGBoost F1 score:\", xgb_f1)\n",
    "print(\"XGBoost Precision:\", xgb_precision)\n",
    "print(\"XGBoost Recall:\", xgb_recall)\n",
    "print(\"XGBoost ROC-AUC score:\", xgb_roc_auc)"
   ]
  },
  {
   "cell_type": "code",
   "execution_count": 74,
   "metadata": {
    "id": "HQUh2MzYbZ1W"
   },
   "outputs": [
    {
     "name": "stdout",
     "output_type": "stream",
     "text": [
      "Epoch 1/100\n",
      "11/11 [==============================] - 1s 19ms/step - loss: 0.5700 - accuracy: 0.7329 - val_loss: 1.6728 - val_accuracy: 0.0000e+00 - lr: 0.0100\n",
      "Epoch 2/100\n",
      "11/11 [==============================] - 0s 8ms/step - loss: 0.3797 - accuracy: 0.8540 - val_loss: 1.1553 - val_accuracy: 0.2346 - lr: 0.0100\n",
      "Epoch 3/100\n",
      "11/11 [==============================] - 0s 8ms/step - loss: 0.3290 - accuracy: 0.8758 - val_loss: 0.9674 - val_accuracy: 0.2593 - lr: 0.0100\n",
      "Epoch 4/100\n",
      "11/11 [==============================] - 0s 9ms/step - loss: 0.2902 - accuracy: 0.8851 - val_loss: 0.8514 - val_accuracy: 0.3580 - lr: 0.0100\n",
      "Epoch 5/100\n",
      "11/11 [==============================] - 0s 8ms/step - loss: 0.2279 - accuracy: 0.9193 - val_loss: 0.6897 - val_accuracy: 0.4568 - lr: 0.0100\n",
      "Epoch 6/100\n",
      "11/11 [==============================] - 0s 6ms/step - loss: 0.1969 - accuracy: 0.9130 - val_loss: 0.7212 - val_accuracy: 0.4938 - lr: 0.0100\n",
      "Epoch 7/100\n",
      "11/11 [==============================] - 0s 8ms/step - loss: 0.2140 - accuracy: 0.9130 - val_loss: 0.5793 - val_accuracy: 0.6173 - lr: 0.0100\n",
      "Epoch 8/100\n",
      "11/11 [==============================] - 0s 7ms/step - loss: 0.1744 - accuracy: 0.9348 - val_loss: 0.5178 - val_accuracy: 0.6543 - lr: 0.0100\n",
      "Epoch 9/100\n",
      "11/11 [==============================] - 0s 7ms/step - loss: 0.1440 - accuracy: 0.9472 - val_loss: 0.4055 - val_accuracy: 0.7901 - lr: 0.0100\n",
      "Epoch 10/100\n",
      "11/11 [==============================] - 0s 7ms/step - loss: 0.1238 - accuracy: 0.9534 - val_loss: 0.3996 - val_accuracy: 0.8025 - lr: 0.0100\n",
      "Epoch 11/100\n",
      "11/11 [==============================] - 0s 6ms/step - loss: 0.1272 - accuracy: 0.9534 - val_loss: 0.4761 - val_accuracy: 0.7284 - lr: 0.0100\n",
      "Epoch 12/100\n",
      "11/11 [==============================] - 0s 7ms/step - loss: 0.1207 - accuracy: 0.9534 - val_loss: 0.3591 - val_accuracy: 0.8272 - lr: 0.0100\n",
      "Epoch 13/100\n",
      "11/11 [==============================] - 0s 6ms/step - loss: 0.1160 - accuracy: 0.9534 - val_loss: 0.4493 - val_accuracy: 0.7407 - lr: 0.0100\n",
      "Epoch 14/100\n",
      "11/11 [==============================] - 0s 6ms/step - loss: 0.1036 - accuracy: 0.9503 - val_loss: 0.5389 - val_accuracy: 0.6914 - lr: 0.0100\n",
      "Epoch 15/100\n",
      "11/11 [==============================] - 0s 6ms/step - loss: 0.1030 - accuracy: 0.9472 - val_loss: 0.4061 - val_accuracy: 0.8148 - lr: 0.0100\n",
      "Epoch 16/100\n",
      "11/11 [==============================] - 0s 7ms/step - loss: 0.0867 - accuracy: 0.9658 - val_loss: 0.3034 - val_accuracy: 0.8395 - lr: 0.0100\n",
      "Epoch 17/100\n",
      "11/11 [==============================] - 0s 6ms/step - loss: 0.1060 - accuracy: 0.9627 - val_loss: 0.3476 - val_accuracy: 0.8148 - lr: 0.0100\n",
      "Epoch 18/100\n",
      "11/11 [==============================] - 0s 8ms/step - loss: 0.0920 - accuracy: 0.9627 - val_loss: 0.2825 - val_accuracy: 0.9012 - lr: 0.0100\n",
      "Epoch 19/100\n",
      "11/11 [==============================] - 0s 6ms/step - loss: 0.0755 - accuracy: 0.9658 - val_loss: 0.2888 - val_accuracy: 0.9012 - lr: 0.0100\n",
      "Epoch 20/100\n",
      "11/11 [==============================] - 0s 7ms/step - loss: 0.0702 - accuracy: 0.9783 - val_loss: 0.2377 - val_accuracy: 0.9012 - lr: 0.0100\n",
      "Epoch 21/100\n",
      "11/11 [==============================] - 0s 6ms/step - loss: 0.0703 - accuracy: 0.9720 - val_loss: 0.3294 - val_accuracy: 0.8519 - lr: 0.0100\n",
      "Epoch 22/100\n",
      "11/11 [==============================] - 0s 6ms/step - loss: 0.0652 - accuracy: 0.9814 - val_loss: 0.3326 - val_accuracy: 0.8395 - lr: 0.0100\n",
      "Epoch 23/100\n",
      "11/11 [==============================] - 0s 7ms/step - loss: 0.0658 - accuracy: 0.9689 - val_loss: 0.1944 - val_accuracy: 0.9259 - lr: 0.0100\n",
      "Epoch 24/100\n",
      "11/11 [==============================] - 0s 6ms/step - loss: 0.0756 - accuracy: 0.9720 - val_loss: 0.3208 - val_accuracy: 0.8395 - lr: 0.0100\n",
      "Epoch 25/100\n",
      "11/11 [==============================] - 0s 6ms/step - loss: 0.0574 - accuracy: 0.9720 - val_loss: 0.3137 - val_accuracy: 0.8519 - lr: 0.0100\n",
      "Epoch 26/100\n",
      "11/11 [==============================] - 0s 6ms/step - loss: 0.0946 - accuracy: 0.9689 - val_loss: 0.3899 - val_accuracy: 0.8272 - lr: 0.0100\n",
      "Epoch 27/100\n",
      "11/11 [==============================] - 0s 6ms/step - loss: 0.0788 - accuracy: 0.9658 - val_loss: 0.2686 - val_accuracy: 0.8519 - lr: 0.0100\n",
      "Epoch 28/100\n",
      "11/11 [==============================] - 0s 6ms/step - loss: 0.0854 - accuracy: 0.9689 - val_loss: 0.3002 - val_accuracy: 0.8519 - lr: 0.0100\n",
      "Epoch 29/100\n",
      "11/11 [==============================] - 0s 6ms/step - loss: 0.0743 - accuracy: 0.9689 - val_loss: 0.2274 - val_accuracy: 0.8889 - lr: 0.0100\n",
      "Epoch 30/100\n",
      "11/11 [==============================] - 0s 6ms/step - loss: 0.0697 - accuracy: 0.9720 - val_loss: 0.2458 - val_accuracy: 0.8642 - lr: 0.0100\n",
      "Epoch 31/100\n",
      "11/11 [==============================] - 0s 6ms/step - loss: 0.0578 - accuracy: 0.9783 - val_loss: 0.3667 - val_accuracy: 0.8148 - lr: 0.0100\n",
      "Epoch 32/100\n",
      "11/11 [==============================] - 0s 6ms/step - loss: 0.0664 - accuracy: 0.9720 - val_loss: 0.2173 - val_accuracy: 0.9012 - lr: 0.0100\n",
      "Epoch 33/100\n",
      "11/11 [==============================] - 0s 7ms/step - loss: 0.0646 - accuracy: 0.9689 - val_loss: 0.1863 - val_accuracy: 0.9012 - lr: 0.0100\n",
      "Epoch 34/100\n",
      "11/11 [==============================] - 0s 6ms/step - loss: 0.0676 - accuracy: 0.9689 - val_loss: 0.2056 - val_accuracy: 0.9259 - lr: 0.0100\n",
      "Epoch 35/100\n",
      "11/11 [==============================] - 0s 6ms/step - loss: 0.0496 - accuracy: 0.9845 - val_loss: 0.2505 - val_accuracy: 0.9012 - lr: 0.0100\n",
      "Epoch 36/100\n",
      "11/11 [==============================] - 0s 7ms/step - loss: 0.0591 - accuracy: 0.9752 - val_loss: 0.2927 - val_accuracy: 0.8272 - lr: 0.0100\n",
      "Epoch 37/100\n",
      "11/11 [==============================] - 0s 6ms/step - loss: 0.0557 - accuracy: 0.9783 - val_loss: 0.2240 - val_accuracy: 0.8765 - lr: 0.0100\n",
      "Epoch 38/100\n",
      "11/11 [==============================] - 0s 6ms/step - loss: 0.0557 - accuracy: 0.9783 - val_loss: 0.2745 - val_accuracy: 0.8889 - lr: 0.0100\n",
      "Epoch 39/100\n",
      "11/11 [==============================] - 0s 7ms/step - loss: 0.0556 - accuracy: 0.9783 - val_loss: 0.1428 - val_accuracy: 0.9630 - lr: 0.0100\n",
      "Epoch 40/100\n",
      "11/11 [==============================] - 0s 6ms/step - loss: 0.0479 - accuracy: 0.9845 - val_loss: 0.2835 - val_accuracy: 0.8765 - lr: 0.0100\n",
      "Epoch 41/100\n",
      "11/11 [==============================] - 0s 6ms/step - loss: 0.1075 - accuracy: 0.9689 - val_loss: 1.0495 - val_accuracy: 0.8765 - lr: 0.0100\n",
      "Epoch 42/100\n",
      "11/11 [==============================] - 0s 6ms/step - loss: 0.1874 - accuracy: 0.9627 - val_loss: 0.8813 - val_accuracy: 0.8889 - lr: 0.0100\n",
      "Epoch 43/100\n",
      "11/11 [==============================] - 0s 6ms/step - loss: 0.0974 - accuracy: 0.9658 - val_loss: 0.5520 - val_accuracy: 0.8519 - lr: 0.0100\n",
      "Epoch 44/100\n",
      "11/11 [==============================] - 0s 6ms/step - loss: 0.0623 - accuracy: 0.9689 - val_loss: 0.2070 - val_accuracy: 0.9259 - lr: 0.0100\n",
      "Epoch 45/100\n",
      "11/11 [==============================] - 0s 5ms/step - loss: 0.1241 - accuracy: 0.9658 - val_loss: 0.2213 - val_accuracy: 0.9259 - lr: 0.0100\n",
      "Epoch 46/100\n",
      "11/11 [==============================] - 0s 6ms/step - loss: 0.0520 - accuracy: 0.9752 - val_loss: 0.2423 - val_accuracy: 0.9136 - lr: 0.0100\n",
      "Epoch 47/100\n",
      "11/11 [==============================] - 0s 5ms/step - loss: 0.0500 - accuracy: 0.9783 - val_loss: 0.3179 - val_accuracy: 0.8642 - lr: 0.0100\n",
      "Epoch 48/100\n",
      "11/11 [==============================] - 0s 6ms/step - loss: 0.0513 - accuracy: 0.9783 - val_loss: 0.3581 - val_accuracy: 0.8272 - lr: 0.0100\n",
      "Epoch 49/100\n",
      "11/11 [==============================] - 0s 5ms/step - loss: 0.0484 - accuracy: 0.9720 - val_loss: 0.2700 - val_accuracy: 0.8765 - lr: 0.0100\n",
      "Epoch 50/100\n",
      "11/11 [==============================] - 0s 6ms/step - loss: 0.0456 - accuracy: 0.9783 - val_loss: 0.2060 - val_accuracy: 0.9136 - lr: 0.0100\n",
      "Epoch 51/100\n",
      "11/11 [==============================] - 0s 6ms/step - loss: 0.0457 - accuracy: 0.9814 - val_loss: 0.2152 - val_accuracy: 0.9136 - lr: 0.0100\n",
      "Epoch 52/100\n",
      "11/11 [==============================] - 0s 6ms/step - loss: 0.0428 - accuracy: 0.9814 - val_loss: 0.2937 - val_accuracy: 0.8889 - lr: 0.0100\n",
      "Epoch 53/100\n",
      "11/11 [==============================] - 0s 5ms/step - loss: 0.0409 - accuracy: 0.9814 - val_loss: 0.2558 - val_accuracy: 0.8889 - lr: 0.0100\n"
     ]
    },
    {
     "name": "stdout",
     "output_type": "stream",
     "text": [
      "Epoch 54/100\n",
      "11/11 [==============================] - 0s 6ms/step - loss: 0.0349 - accuracy: 0.9814 - val_loss: 0.2467 - val_accuracy: 0.8889 - lr: 0.0100\n",
      "Epoch 55/100\n",
      "11/11 [==============================] - 0s 6ms/step - loss: 0.0463 - accuracy: 0.9876 - val_loss: 0.2627 - val_accuracy: 0.8889 - lr: 0.0100\n",
      "Epoch 56/100\n",
      "11/11 [==============================] - 0s 6ms/step - loss: 0.0333 - accuracy: 0.9845 - val_loss: 0.3425 - val_accuracy: 0.8765 - lr: 0.0100\n",
      "Epoch 57/100\n",
      "11/11 [==============================] - 0s 6ms/step - loss: 0.0464 - accuracy: 0.9783 - val_loss: 0.2649 - val_accuracy: 0.8889 - lr: 0.0100\n",
      "Epoch 58/100\n",
      "11/11 [==============================] - 0s 5ms/step - loss: 0.0442 - accuracy: 0.9752 - val_loss: 0.2167 - val_accuracy: 0.9506 - lr: 0.0100\n",
      "Epoch 59/100\n",
      "11/11 [==============================] - 0s 6ms/step - loss: 0.0579 - accuracy: 0.9783 - val_loss: 0.3799 - val_accuracy: 0.8272 - lr: 0.0100\n",
      "3/3 [==============================] - 0s 3ms/step - loss: 0.3513 - accuracy: 0.9383\n",
      "Test accuracy: 93.83%\n",
      "3/3 [==============================] - 0s 2ms/step\n",
      "Neural Network Accuracy: 0.9382716049382716\n",
      "Neural Network F1 score: 0.761904761904762\n",
      "Neural Network Precision: 0.8\n",
      "Neural Network Recall: 0.7272727272727273\n",
      "Neural Network ROC-AUC score: 0.9454545454545453\n"
     ]
    }
   ],
   "source": [
    "import tensorflow as tf\n",
    "from tensorflow.keras.models import Sequential\n",
    "from tensorflow.keras.layers import Dense, Dropout, Flatten\n",
    "from tensorflow.keras.optimizers import Adam\n",
    "from tensorflow.keras.callbacks import EarlyStopping\n",
    "from tensorflow.keras.callbacks import ModelCheckpoint\n",
    "from tensorflow.keras.callbacks import ReduceLROnPlateau\n",
    "\n",
    "# Define the model architecture\n",
    "model = Sequential()\n",
    "model.add(Dense(64, activation='relu'))\n",
    "model.add(Dropout(0.2))\n",
    "model.add(Dense(32, activation='relu'))\n",
    "model.add(Dropout(0.2))\n",
    "model.add(Dense(1, activation='sigmoid'))\n",
    "\n",
    "# Compile the model\n",
    "model.compile(loss='binary_crossentropy', optimizer=Adam(learning_rate=0.01), metrics=['accuracy'])\n",
    "\n",
    "# Callbacks\n",
    "early_stopping = EarlyStopping(monitor='val_loss', patience=20, restore_best_weights=True)\n",
    "model_checkpoint = ModelCheckpoint('best_model.h5', monitor='val_loss', save_best_only=True, mode='min')\n",
    "reduce_lr_on_plateau = ReduceLROnPlateau(monitor='val_loss', factor=0.1, patience=20, min_lr=0.1)\n",
    "\n",
    "# Train the model\n",
    "history = model.fit(X_train_pca, y_train, validation_split=0.2, epochs=100, batch_size=32, callbacks=[early_stopping, model_checkpoint, reduce_lr_on_plateau])\n",
    "\n",
    "# Evaluate the model on the test set\n",
    "_, test_accuracy = model.evaluate(X_test_pca, y_test)\n",
    "print(f\"Test accuracy: {test_accuracy * 100:.2f}%\")\n",
    "\n",
    "# Get the predicted probabilities\n",
    "y_pred_probs = model.predict(X_test_pca)\n",
    "\n",
    "# Convert probabilities to class labels\n",
    "y_pred = (y_pred_probs > 0.5).astype(int).reshape(-1)\n",
    "\n",
    "# Calculate the evaluation metrics of the classifier\n",
    "nn_accuracy = accuracy_score(y_test, y_pred)\n",
    "nn_f1 = f1_score(y_test, y_pred)\n",
    "nn_precision = precision_score(y_test, y_pred)\n",
    "nn_recall = recall_score(y_test, y_pred)\n",
    "nn_roc_auc = roc_auc_score(y_test, y_pred_probs)\n",
    "\n",
    "# Print the evaluation metrics of the classifier\n",
    "print(\"Neural Network Accuracy:\", nn_accuracy)\n",
    "print(\"Neural Network F1 score:\", nn_f1)\n",
    "print(\"Neural Network Precision:\", nn_precision)\n",
    "print(\"Neural Network Recall:\", nn_recall)\n",
    "print(\"Neural Network ROC-AUC score:\", nn_roc_auc)"
   ]
  },
  {
   "cell_type": "code",
   "execution_count": 81,
   "metadata": {
    "id": "pjnoZvHTmXdD"
   },
   "outputs": [
    {
     "data": {
      "image/png": "[encoded data removed]",
      "text/plain": [
       "<Figure size 1400x800 with 1 Axes>"
      ]
     },
     "metadata": {},
     "output_type": "display_data"
    }
   ],
   "source": [
    "import matplotlib.pyplot as plt\n",
    "import numpy as np\n",
    "\n",
    "models = ['Gaussian', 'Log', 'LDF', 'KNN', 'Parzen Windows', 'XGBoost', 'Neural Network']\n",
    "accuracy = [gauss_accuracy, log_accuracy, ldf_accuracy, knn_accuracy, pw_accuracy, xgb_accuracy, nn_accuracy]\n",
    "f1_scores = [gauss_f1, log_f1, ldf_f1, knn_f1, pw_f1, xgb_f1, nn_f1]\n",
    "precision = [gauss_precision, log_precision, ldf_precision, knn_precision, pw_precision, xgb_precision, nn_precision]\n",
    "recall = [gauss_recall, log_recall, ldf_recall, knn_recall, pw_recall, xgb_recall, nn_recall]\n",
    "roc_auc = [gauss_roc_auc, log_roc_auc, ldf_roc_auc, knn_roc_auc, pw_roc_auc, xgb_roc_auc, nn_roc_auc]\n",
    "\n",
    "x = np.arange(len(models))  \n",
    "width = 0.15\n",
    "\n",
    "fig, ax = plt.subplots(figsize=(14, 8))\n",
    "rects1 = ax.bar(x - 2 * width, accuracy, width, label='Accuracy')\n",
    "rects2 = ax.bar(x - width, f1_scores, width, label='F1 score')\n",
    "rects3 = ax.bar(x, precision, width, label='Precision')\n",
    "rects4 = ax.bar(x + width, recall, width, label='Recall')\n",
    "rects5 = ax.bar(x + 2 * width, roc_auc, width, label='ROC-AUC score')\n",
    "\n",
    "ax.set_ylabel('Scores')\n",
    "ax.set_title('Model Comparison (Random Forest)')\n",
    "ax.set_xticks(x)\n",
    "ax.set_xticklabels(models)\n",
    "ax.legend()\n",
    "\n",
    "ax.bar_label(rects1, padding=3)\n",
    "ax.bar_label(rects2, padding=3)\n",
    "ax.bar_label(rects3, padding=3)\n",
    "ax.bar_label(rects4, padding=3)\n",
    "ax.bar_label(rects5, padding=3)\n",
    "\n",
    "fig.tight_layout()\n",
    "\n",
    "plt.show()"
   ]
  },
  {
   "cell_type": "code",
   "execution_count": null,
   "metadata": {},
   "outputs": [],
   "source": []
  }
 ],
 "metadata": {
  "colab": {
   "provenance": []
  },
  "kernelspec": {
   "display_name": "Python 3 (ipykernel)",
   "language": "python",
   "name": "python3"
  },
  "language_info": {
   "codemirror_mode": {
    "name": "ipython",
    "version": 3
   },
   "file_extension": ".py",
   "mimetype": "text/x-python",
   "name": "python",
   "nbconvert_exporter": "python",
   "pygments_lexer": "ipython3",
   "version": "3.9.13"
  }
 },
 "nbformat": 4,
 "nbformat_minor": 1
}
