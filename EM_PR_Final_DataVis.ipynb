{
 "cells": [
  {
   "cell_type": "markdown",
   "metadata": {
    "colab_type": "text",
    "id": "view-in-github"
   },
   "source": [
    "<a href=\"https://colab.research.google.com/github/CaptainComputer1/CECS550Project/blob/Ellis_PR/EM_PR_Final_DataVis.ipynb\" target=\"_parent\"><img src=\"https://colab.research.google.com/assets/colab-badge.svg\" alt=\"Open In Colab\"/></a>"
   ]
  },
  {
   "cell_type": "code",
   "execution_count": 1,
   "metadata": {
    "colab": {
     "base_uri": "https://localhost:8080/"
    },
    "id": "JU-B0ulP3QMG",
    "outputId": "73a40827-0e85-46c3-9246-363d5f013df0"
   },
   "outputs": [
    {
     "ename": "ModuleNotFoundError",
     "evalue": "No module named 'google.colab'",
     "output_type": "error",
     "traceback": [
      "\u001b[1;31m---------------------------------------------------------------------------\u001b[0m",
      "\u001b[1;31mModuleNotFoundError\u001b[0m                       Traceback (most recent call last)",
      "Input \u001b[1;32mIn [1]\u001b[0m, in \u001b[0;36m<cell line: 1>\u001b[1;34m()\u001b[0m\n\u001b[1;32m----> 1\u001b[0m \u001b[38;5;28;01mfrom\u001b[39;00m \u001b[38;5;21;01mgoogle\u001b[39;00m\u001b[38;5;21;01m.\u001b[39;00m\u001b[38;5;21;01mcolab\u001b[39;00m \u001b[38;5;28;01mimport\u001b[39;00m drive\n\u001b[0;32m      2\u001b[0m drive\u001b[38;5;241m.\u001b[39mmount(\u001b[38;5;124m'\u001b[39m\u001b[38;5;124m/content/drive\u001b[39m\u001b[38;5;124m'\u001b[39m)\n",
      "\u001b[1;31mModuleNotFoundError\u001b[0m: No module named 'google.colab'"
     ]
    }
   ],
   "source": [
    "from google.colab import drive\n",
    "drive.mount('/content/drive')"
   ]
  },
  {
   "cell_type": "markdown",
   "metadata": {
    "id": "HO5A72D_LX4i"
   },
   "source": [
    "# Repeat Buyers Prediction for E-Commerce\n",
    "\n",
    "### Problem Statement\n",
    "Merchants often gain many new customers through promotions, but a significant portion of these customers are only interested in one-time deals. Therefore, the impact of promotions on long-term sales may be limited. To maximize return on investment (ROI) and reduce promotion costs, it is crucial for merchants to distinguish between one-time buyers and potential loyal customers and focus their efforts on converting the latter group.\n",
    "\n",
    "In this project, you are provided a dataset with information on promotional shopping event from e-commerce platform. Your task is to design a system which will increase the ROI (in other words, you need to predict the probability that these new buyers would purchase items from the same merchants again within 6 months), reduce promotional cost, and identify one-time buyers. \n",
    "\n"
   ]
  },
  {
   "cell_type": "code",
   "execution_count": null,
   "metadata": {
    "id": "e0TRRYsg3mSu"
   },
   "outputs": [],
   "source": [
    "import pandas as pd\n",
    "\n",
    "user_logs = pd.read_csv('/content/drive/MyDrive/PR_Final/user_log.csv')\n",
    "user_info = pd.read_csv('/content/drive/MyDrive/PR_Final/user_info.csv')\n",
    "train = pd.read_csv('/content/drive/MyDrive/PR_Final/train.csv')\n",
    "test = pd.read_csv('/content/drive/MyDrive/PR_Final/test.csv')"
   ]
  },
  {
   "cell_type": "markdown",
   "metadata": {
    "id": "kR7nuWKLWvAc"
   },
   "source": [
    "# New Section"
   ]
  },
  {
   "cell_type": "code",
   "execution_count": null,
   "metadata": {
    "colab": {
     "base_uri": "https://localhost:8080/",
     "height": 206
    },
    "id": "ywzCPzxQ4iAQ",
    "outputId": "5e1c3770-a42f-4f93-d227-f6e4188591e2"
   },
   "outputs": [],
   "source": [
    "user_logs.head(5)"
   ]
  },
  {
   "cell_type": "code",
   "execution_count": null,
   "metadata": {
    "colab": {
     "base_uri": "https://localhost:8080/"
    },
    "id": "l4aRybVu5lcs",
    "outputId": "ba188efa-699c-4db0-c05f-f03129d85451"
   },
   "outputs": [],
   "source": [
    "user_logs.shape"
   ]
  },
  {
   "cell_type": "markdown",
   "metadata": {
    "id": "3kpGCdDa6y_m"
   },
   "source": [
    "# Data Visualization\n",
    "\n",
    "4 Data Frames \n",
    "\n",
    "**User Behavior**, with 6 columns, *user_id*: a unique id for the shopper, *item_id*: a unique id for the item, *cat_id*, a unique id for the category that the item belongs to, *merchant_id*: a unique id for the merchant, *brand_id*: a unique id for the brand of the item, *time_stamp*: date the action took place (format: mmdd), and *action_type*: it is an enumerated type {0, 1, 2, 3}, where 0 is for click, 1 is for add-to-cart, 2 is for purchase and 3 is for add-to-favorite. \n",
    "\n",
    "**User Profile**, with 3 columns, *user_id*: a unique id for the shopper, *age_range*: user's age range, 1 for younger than 18, 2 for 18-24, 3 for 25-29, 4 for 30-34, 5 for 35-39, 6 for 40-49, 7 and 8 for older than 50, and 0 and Null for unknown, and *gender*: user's gender, 0 for female, 1 for male, and 2 for Null or unknown. \n",
    "\n",
    "**Training and Testing**, *user_id*: a unique id for the shopper, *merchant_id*: a unqiue id for the merchant, and *label*: it is an enumerated type{0, 1}, where 1 means repeat buyer, 0 is for non-repeat buyer. This field is blank for test data.\n"
   ]
  },
  {
   "cell_type": "code",
   "execution_count": null,
   "metadata": {
    "id": "1CpfTGLsj1cd"
   },
   "outputs": [],
   "source": [
    "import matplotlib.pyplot as plt\n",
    "import seaborn as sns"
   ]
  },
  {
   "cell_type": "markdown",
   "metadata": {
    "id": "FjrA2fQzjLRt"
   },
   "source": [
    "### User Behavior Data Visualization\n"
   ]
  },
  {
   "cell_type": "code",
   "execution_count": null,
   "metadata": {
    "id": "Qk6H3eG0yG-T"
   },
   "outputs": [],
   "source": [
    "# Map the number action_type labels to word action_type labels\n",
    "action_type_mapping = {0: \"Clicks\", 1: \"Add to Cart\", 2: \"Purchases\", 3: \"Favorites\"}\n",
    "\n",
    "# Replace the number action_type labels with the word labels\n",
    "user_logs[\"action_type\"] = user_logs[\"action_type\"].replace(action_type_mapping)"
   ]
  },
  {
   "cell_type": "code",
   "execution_count": null,
   "metadata": {
    "colab": {
     "base_uri": "https://localhost:8080/",
     "height": 487
    },
    "id": "dw-hJP2qDL7r",
    "outputId": "561eeaf1-9527-4954-ed97-534966ece04b"
   },
   "outputs": [],
   "source": [
    "plt.figure(figsize=(10, 5))\n",
    "sns.countplot(x='action_type', data=user_logs)\n",
    "plt.title('Distribution of Action Types by count')\n",
    "plt.xlabel('Action Type')\n",
    "plt.ylabel('Count')\n",
    "\n",
    "plt.show()"
   ]
  },
  {
   "cell_type": "code",
   "execution_count": null,
   "metadata": {
    "colab": {
     "base_uri": "https://localhost:8080/",
     "height": 206
    },
    "id": "l0LjYWvC6tcH",
    "outputId": "6c654f69-5010-40e1-cb74-dc6f73d67579"
   },
   "outputs": [],
   "source": [
    "# Merge user logs and info\n",
    "merged_data = pd.merge(user_logs, user_info, on='user_id', how='left')\n",
    "merged_data.head()"
   ]
  },
  {
   "cell_type": "code",
   "execution_count": null,
   "metadata": {
    "colab": {
     "base_uri": "https://localhost:8080/",
     "height": 677
    },
    "id": "6jVfx6nROoal",
    "outputId": "82c87cf0-3b87-477c-8e19-5095481dcc9a"
   },
   "outputs": [],
   "source": [
    "# Pie chart - to show action types distribution\n",
    "action_type_counts = merged_data['action_type'].value_counts()\n",
    "action_type_percentages = 100 * action_type_counts / len(merged_data)\n",
    "\n",
    "plt.figure(figsize=(8,8))\n",
    "plt.pie(action_type_percentages, labels=action_type_percentages.index, autopct='%1.1f%%', textprops={'fontsize': 14})\n",
    "plt.title('Distribution of Action Types by percentage', fontsize=16)\n",
    "plt.legend(title='Action Types', loc='best', bbox_to_anchor=(1, 0.5, 0.5, 0.5))\n",
    "\n",
    "plt.show()"
   ]
  },
  {
   "cell_type": "code",
   "execution_count": null,
   "metadata": {
    "colab": {
     "base_uri": "https://localhost:8080/",
     "height": 740
    },
    "id": "bnncDOqko3BD",
    "outputId": "fd2fb39b-9f88-4191-ec66-33196c874b74"
   },
   "outputs": [],
   "source": [
    "# Pivot table - to aggregate the number of actions by category and action type\n",
    "pivot_table = user_logs.pivot_table(index=\"cat_id\", columns=\"action_type\", values=\"user_id\", aggfunc=\"count\")\n",
    "\n",
    "# Stacked Bar Chart - to visualize the distributions of actions across different merchants or brands\n",
    "pivot_table.plot(kind=\"bar\", stacked=True, figsize=(14, 8))\n",
    "\n",
    "plt.title(\"Distribution of Actions Types by Category\")\n",
    "plt.xlabel(\"Category\")\n",
    "plt.ylabel(\"Count of Actions\")\n",
    "\n",
    "\n",
    "plt.show()"
   ]
  },
  {
   "cell_type": "code",
   "execution_count": null,
   "metadata": {
    "colab": {
     "base_uri": "https://localhost:8080/",
     "height": 673
    },
    "id": "LI8wpp-bkhfR",
    "outputId": "9654bf06-e46f-49f1-ccf4-d74f11c00f5d"
   },
   "outputs": [],
   "source": [
    "# Convert time_stamp to datetime format: mmdd\n",
    "user_logs[\"time_stamp\"] = pd.to_datetime(user_logs[\"time_stamp\"], format=\"%m%d\")\n",
    "\n",
    "# Pivot table - to aggregate the number of actions by date and action type\n",
    "pivot_table = user_logs.pivot_table(index=\"time_stamp\", columns=\"action_type\", values=\"user_id\", aggfunc=\"count\")\n",
    "\n",
    "# Line chart - to visualize the trend of user actions over time\n",
    "pivot_table.plot(kind=\"line\", figsize=(14, 8))\n",
    "\n",
    "plt.title(\"Trend of User Actions over Time\")\n",
    "plt.xlabel(\"Time Stamp\")\n",
    "plt.ylabel(\"Count of Actions\")\n",
    "\n",
    "plt.show()"
   ]
  },
  {
   "cell_type": "markdown",
   "metadata": {
    "id": "ZIh--oJx1Tsx"
   },
   "source": [
    "## User Profile Data Visualization"
   ]
  },
  {
   "cell_type": "code",
   "execution_count": null,
   "metadata": {
    "colab": {
     "base_uri": "https://localhost:8080/",
     "height": 487
    },
    "id": "9Wo7yyCe64X1",
    "outputId": "9c81fdf7-c854-43d5-b041-1d0439d4adb6"
   },
   "outputs": [],
   "source": [
    "# Bar - to visualize distribution of age range and gender\n",
    "plt.figure(figsize=(10, 5))\n",
    "sns.countplot(x='age_range', hue='gender', data=user_info)\n",
    "plt.title('Distribution of Age Range and Gender')\n",
    "plt.xlabel('Age Range')\n",
    "plt.ylabel('Count')\n",
    "plt.xticks([0, 1, 2, 3, 4, 5, 6, 7, 8], ['Unknown', '<18', '[18,24]', '[25,29]', '[30,34]', '[35,39]', '[40,49]', '>=50', '>=50'])\n",
    "plt.legend(['Female', 'Male', 'Unknown'])\n",
    "plt.show()"
   ]
  },
  {
   "cell_type": "code",
   "execution_count": null,
   "metadata": {
    "colab": {
     "base_uri": "https://localhost:8080/",
     "height": 564
    },
    "id": "X6vo4_GlOvJX",
    "outputId": "6062860a-4f90-4d69-8f0d-5af5d78c0d99"
   },
   "outputs": [],
   "source": [
    "# Violin plot - to show age range distribution by action type\n",
    "plt.figure(figsize=(10, 6))\n",
    "sns.violinplot(x='action_type', y='age_range', data=merged_data)\n",
    "plt.yticks([0, 1, 2, 3, 4, 5, 6, 7, 8], ['Unknown', '<18', '[18,24]', '[25,29]', '[30,34]', '[35,39]', '[40,49]', '>=50', '>=50'])\n",
    "plt.title(\"Distribution of Age Range by Action Type\")\n",
    "plt.show()"
   ]
  },
  {
   "cell_type": "code",
   "execution_count": null,
   "metadata": {
    "id": "uffsm5iE-UQa"
   },
   "outputs": [],
   "source": [
    "# Create age and gender purchase data\n",
    "age_purchase_data = merged_data[merged_data['action_type'] == 2].groupby(['age_range', 'time_stamp']).size().reset_index(name='num_purchases')\n",
    "gender_purchase_data = merged_data[merged_data['action_type'] == 2].groupby(['gender', 'time_stamp']).size().reset_index(name='num_purchases')"
   ]
  },
  {
   "cell_type": "code",
   "execution_count": null,
   "metadata": {
    "colab": {
     "base_uri": "https://localhost:8080/",
     "height": 472
    },
    "id": "TRbbkGFrOyys",
    "outputId": "5d6745fe-bb39-4e00-ff55-af3520899489"
   },
   "outputs": [],
   "source": [
    "# Heatmap - to visualize the action type frequency by age range and gender\n",
    "age_gender_action = merged_data.groupby(['age_range', 'gender', 'action_type']).size().unstack()\n",
    "age_gender_action.fillna(0, inplace=True)\n",
    "\n",
    "# Normalize the data\n",
    "age_gender_action = age_gender_action.div(age_gender_action.sum(axis=1), axis=0)\n",
    "\n",
    "sns.heatmap(age_gender_action, annot=True, cmap='coolwarm')\n",
    "plt.title(\"Frequency of Action Type by Age Range and Gender\")\n",
    "\n",
    "plt.show()"
   ]
  },
  {
   "cell_type": "markdown",
   "metadata": {
    "id": "xzrQWN4G3uvh"
   },
   "source": [
    "## Training Data Visualization"
   ]
  },
  {
   "cell_type": "code",
   "execution_count": null,
   "metadata": {
    "id": "UUOihjAWwzf-"
   },
   "outputs": [],
   "source": [
    "# Map the number number labels to word labels\n",
    "buyer_mapping = {0: \"Non-repeat Buyer\", 1: \"Repeat Buyer\"}\n",
    "\n",
    "# Replace the number labels with the word labels\n",
    "train[\"label\"] = train[\"label\"].replace(buyer_mapping)"
   ]
  },
  {
   "cell_type": "code",
   "execution_count": null,
   "metadata": {
    "colab": {
     "base_uri": "https://localhost:8080/",
     "height": 487
    },
    "id": "-PecbkqdDURw",
    "outputId": "287d86a1-210d-4ee0-8874-ecd98ab0d862"
   },
   "outputs": [],
   "source": [
    "# Bar - to visualize distribution of repeat and non-repeat buyers\n",
    "plt.figure(figsize=(5, 5))\n",
    "sns.countplot(x='label', data=train)\n",
    "plt.title('Distribution of Repeat and Non-repeat Buyers')\n",
    "plt.xlabel('Label')\n",
    "plt.ylabel('Count')\n",
    "\n",
    "plt.show()"
   ]
  },
  {
   "cell_type": "code",
   "execution_count": null,
   "metadata": {
    "colab": {
     "base_uri": "https://localhost:8080/",
     "height": 509
    },
    "id": "v8TKjs_kwA2q",
    "outputId": "40a58995-437d-4695-96a6-09b9e846cb4b"
   },
   "outputs": [],
   "source": [
    "# Create a scatter plot to show the relationship between user_id and merchant_id in the training data\n",
    "sns.scatterplot(x='user_id', y='merchant_id', hue='label', data=train)\n",
    "plt.title('Relationship between User ID and Merchant ID')\n",
    "plt.xlabel('User ID')\n",
    "plt.ylabel('Merchant ID')\n",
    "\n",
    "plt.show()"
   ]
  },
  {
   "cell_type": "code",
   "execution_count": null,
   "metadata": {
    "id": "2hilMJhl0Yjw"
   },
   "outputs": [],
   "source": [
    "# Group and count the data by merchant_id and label\n",
    "merchant_counts = train.groupby([\"merchant_id\", \"label\"]).size().reset_index(name=\"count\")"
   ]
  },
  {
   "cell_type": "code",
   "execution_count": null,
   "metadata": {
    "colab": {
     "base_uri": "https://localhost:8080/",
     "height": 493
    },
    "id": "bvtgyAnI0l11",
    "outputId": "842034c7-1c45-4f03-94af-5e0c2b5c8684"
   },
   "outputs": [],
   "source": [
    "# Bar chart - to show the top 20 merchants with the most repeat buyers\n",
    "repeat_buyers = train[train['label'] == \"Repeat Buyer\"]\n",
    "merchant_counts = repeat_buyers['merchant_id'].value_counts().head(20)\n",
    "\n",
    "plt.bar(range(len(merchant_counts)), merchant_counts.values)\n",
    "plt.xticks(range(len(merchant_counts)), merchant_counts.index, rotation=45)\n",
    "\n",
    "plt.title('Top 20 Merchants with the Most Repeat Buyers')\n",
    "plt.xlabel('Merchant ID')\n",
    "plt.ylabel('Count of Repeat Buyers')\n",
    "\n",
    "plt.show()\n"
   ]
  },
  {
   "cell_type": "code",
   "execution_count": null,
   "metadata": {
    "colab": {
     "base_uri": "https://localhost:8080/",
     "height": 493
    },
    "id": "1loBXf0n1GS6",
    "outputId": "9cb74319-7b8d-43a2-b1ff-19178899bbc6"
   },
   "outputs": [],
   "source": [
    "# Bar chart - to show the top 20 merchants with the most non-repeat buyers\n",
    "non_repeat_buyers = train[train['label'] == \"Non-repeat Buyer\"]\n",
    "merchant_counts = non_repeat_buyers['merchant_id'].value_counts().head(20)\n",
    "\n",
    "plt.bar(range(len(merchant_counts)), merchant_counts.values)\n",
    "plt.xticks(range(len(merchant_counts)), merchant_counts.index, rotation=45)\n",
    "\n",
    "plt.title('Top 20 Merchants with the Most Non-Repeat Buyers')\n",
    "plt.xlabel('Merchant ID')\n",
    "plt.ylabel('Count of Non-Repeat Buyers')\n",
    "\n",
    "plt.show()\n",
    "\n"
   ]
  },
  {
   "cell_type": "code",
   "execution_count": null,
   "metadata": {
    "colab": {
     "base_uri": "https://localhost:8080/",
     "height": 505
    },
    "id": "IiLNrWcO3bQg",
    "outputId": "f2cb6ddf-469d-45f6-8df1-20683bd84935"
   },
   "outputs": [],
   "source": [
    "# Bar chart - to show the top 20 users with the most repeat buyers\n",
    "repeat_buyers = train[train['label'] == \"Repeat Buyer\"]\n",
    "user_counts = repeat_buyers['user_id'].value_counts().head(20)\n",
    "\n",
    "plt.bar(range(len(user_counts)), user_counts.values)\n",
    "plt.xticks(range(len(user_counts)), user_counts.index, rotation=45)\n",
    "\n",
    "plt.title('Top 20 Users with the Most Repeat Purchases')\n",
    "plt.xlabel('User ID')\n",
    "plt.ylabel('Count of Repeat Purchases')\n",
    "\n",
    "plt.show()\n"
   ]
  },
  {
   "cell_type": "code",
   "execution_count": null,
   "metadata": {
    "colab": {
     "base_uri": "https://localhost:8080/",
     "height": 505
    },
    "id": "yWITTf9u5rqB",
    "outputId": "2923b41c-e646-4a59-d992-c85b1926f002"
   },
   "outputs": [],
   "source": [
    "# Bar chart - to show the top 20 users with the most non-repeat buyers\n",
    "repeat_buyers = train[train['label'] == \"Non-repeat Buyer\"]\n",
    "user_counts = repeat_buyers['user_id'].value_counts().head(20)\n",
    "\n",
    "plt.bar(range(len(user_counts)), user_counts.values)\n",
    "plt.xticks(range(len(user_counts)), user_counts.index, rotation=45)\n",
    "\n",
    "plt.title('Top 20 Users with the Most Non-repeat Purchases')\n",
    "plt.xlabel('User ID')\n",
    "plt.ylabel('Count of Non-repeat Purchases')\n",
    "\n",
    "plt.show()\n"
   ]
  },
  {
   "cell_type": "code",
   "execution_count": null,
   "metadata": {
    "colab": {
     "base_uri": "https://localhost:8080/",
     "height": 509
    },
    "id": "37mHOEf47eqA",
    "outputId": "bb195f19-d067-48b2-9ccc-51c7fdefb50a"
   },
   "outputs": [],
   "source": [
    "# Heatmap - to show the correlation matrix of the training data\n",
    "corr_matrix = train.corr()\n",
    "sns.heatmap(corr_matrix, annot=True, cmap='coolwarm')\n",
    "\n",
    "plt.title('Correlation Matrix of Training Data')\n",
    "\n",
    "plt.show()\n"
   ]
  },
  {
   "cell_type": "code",
   "execution_count": null,
   "metadata": {
    "id": "OKnu5Qgr7e-1"
   },
   "outputs": [],
   "source": []
  }
 ],
 "metadata": {
  "colab": {
   "include_colab_link": true,
   "provenance": []
  },
  "kernelspec": {
   "display_name": "Python 3 (ipykernel)",
   "language": "python",
   "name": "python3"
  },
  "language_info": {
   "codemirror_mode": {
    "name": "ipython",
    "version": 3
   },
   "file_extension": ".py",
   "mimetype": "text/x-python",
   "name": "python",
   "nbconvert_exporter": "python",
   "pygments_lexer": "ipython3",
   "version": "3.9.13"
  }
 },
 "nbformat": 4,
 "nbformat_minor": 1
}
