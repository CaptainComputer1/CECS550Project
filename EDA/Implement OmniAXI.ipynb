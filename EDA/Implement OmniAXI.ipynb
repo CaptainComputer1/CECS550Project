{
 "cells": [
  {
   "cell_type": "markdown",
   "id": "98e5138a",
   "metadata": {},
   "source": [
    "## OmniXAI: A Library for Explainable AI"
   ]
  },
  {
   "cell_type": "markdown",
   "id": "65c2502a",
   "metadata": {},
   "source": [
    "**Inroduction:**\n",
    "\n",
    "**OmniXAI (short for Omni eXplainable AI)** is a Python machine-learning library for explainable AI (XAI), offering omni-way explainable AI and interpretable machine learning capabilities to address many pain points in explaining decisions made by machine learning models in practice. OmniXAI aims to be a one-stop comprehensive library that makes explainable AI easy for data scientists, ML researchers and practitioners who need explanation for various types of data, models and explanation methods at different stages of ML process"
   ]
  },
  {
   "cell_type": "code",
   "execution_count": 9,
   "id": "dd799935",
   "metadata": {},
   "outputs": [],
   "source": [
    "# Download Dataset\n",
    "import pandas as pd\n",
    "#importing Tablular form omnixai.data.table\n",
    "from omnixai.data.tabular import Tabular\n",
    "from omnixai.preprocessing.tabular import TabularTransform\n",
    "from sklearn.model_selection import train_test_split\n",
    "from xgboost import XGBClassifier\n",
    "from omnixai.explainers.tabular import TabularExplainer\n",
    "from sklearn.metrics import classification_report,accuracy_score\n",
    "from omnixai.explainers.prediction import PredictionAnalyzer\n",
    "from omnixai.visualization.dashboard import Dashboard"
   ]
  },
  {
   "cell_type": "code",
   "execution_count": 10,
   "id": "6dc0a30e-275d-4c1d-a3f1-5ddcbd4643b4",
   "metadata": {},
   "outputs": [
    {
     "data": {
      "text/html": [
       "<div>\n",
       "<style scoped>\n",
       "    .dataframe tbody tr th:only-of-type {\n",
       "        vertical-align: middle;\n",
       "    }\n",
       "\n",
       "    .dataframe tbody tr th {\n",
       "        vertical-align: top;\n",
       "    }\n",
       "\n",
       "    .dataframe thead th {\n",
       "        text-align: right;\n",
       "    }\n",
       "</style>\n",
       "<table border=\"1\" class=\"dataframe\">\n",
       "  <thead>\n",
       "    <tr style=\"text-align: right;\">\n",
       "      <th></th>\n",
       "      <th>user_id</th>\n",
       "      <th>item_id</th>\n",
       "      <th>cat_id</th>\n",
       "      <th>merchant_id</th>\n",
       "      <th>brand_id</th>\n",
       "      <th>time_stamp</th>\n",
       "      <th>action_type</th>\n",
       "      <th>age_range</th>\n",
       "      <th>gender</th>\n",
       "      <th>label</th>\n",
       "    </tr>\n",
       "  </thead>\n",
       "  <tbody>\n",
       "    <tr>\n",
       "      <th>0</th>\n",
       "      <td>190023</td>\n",
       "      <td>424</td>\n",
       "      <td>662</td>\n",
       "      <td>3432</td>\n",
       "      <td>5093.0</td>\n",
       "      <td>1111</td>\n",
       "      <td>0</td>\n",
       "      <td>4.0</td>\n",
       "      <td>0.0</td>\n",
       "      <td>0</td>\n",
       "    </tr>\n",
       "    <tr>\n",
       "      <th>1</th>\n",
       "      <td>190023</td>\n",
       "      <td>424</td>\n",
       "      <td>662</td>\n",
       "      <td>3432</td>\n",
       "      <td>5093.0</td>\n",
       "      <td>1111</td>\n",
       "      <td>0</td>\n",
       "      <td>4.0</td>\n",
       "      <td>0.0</td>\n",
       "      <td>0</td>\n",
       "    </tr>\n",
       "    <tr>\n",
       "      <th>2</th>\n",
       "      <td>190023</td>\n",
       "      <td>424</td>\n",
       "      <td>662</td>\n",
       "      <td>3432</td>\n",
       "      <td>5093.0</td>\n",
       "      <td>1111</td>\n",
       "      <td>0</td>\n",
       "      <td>4.0</td>\n",
       "      <td>0.0</td>\n",
       "      <td>0</td>\n",
       "    </tr>\n",
       "    <tr>\n",
       "      <th>3</th>\n",
       "      <td>190023</td>\n",
       "      <td>424</td>\n",
       "      <td>662</td>\n",
       "      <td>3432</td>\n",
       "      <td>5093.0</td>\n",
       "      <td>1111</td>\n",
       "      <td>3</td>\n",
       "      <td>4.0</td>\n",
       "      <td>0.0</td>\n",
       "      <td>0</td>\n",
       "    </tr>\n",
       "    <tr>\n",
       "      <th>4</th>\n",
       "      <td>190023</td>\n",
       "      <td>424</td>\n",
       "      <td>662</td>\n",
       "      <td>3432</td>\n",
       "      <td>5093.0</td>\n",
       "      <td>1111</td>\n",
       "      <td>2</td>\n",
       "      <td>4.0</td>\n",
       "      <td>0.0</td>\n",
       "      <td>0</td>\n",
       "    </tr>\n",
       "  </tbody>\n",
       "</table>\n",
       "</div>"
      ],
      "text/plain": [
       "   user_id  item_id  cat_id  merchant_id  brand_id  time_stamp  action_type  \\\n",
       "0   190023      424     662         3432    5093.0        1111            0   \n",
       "1   190023      424     662         3432    5093.0        1111            0   \n",
       "2   190023      424     662         3432    5093.0        1111            0   \n",
       "3   190023      424     662         3432    5093.0        1111            3   \n",
       "4   190023      424     662         3432    5093.0        1111            2   \n",
       "\n",
       "   age_range  gender  label  \n",
       "0        4.0     0.0      0  \n",
       "1        4.0     0.0      0  \n",
       "2        4.0     0.0      0  \n",
       "3        4.0     0.0      0  \n",
       "4        4.0     0.0      0  "
      ]
     },
     "execution_count": 10,
     "metadata": {},
     "output_type": "execute_result"
    }
   ],
   "source": [
    "training_df = pd.read_csv('training_df.csv')\n",
    "training_df = training_df.drop('Unnamed: 0', axis=1)\n",
    "training_df.head()"
   ]
  },
  {
   "cell_type": "code",
   "execution_count": 11,
   "id": "9cdf3f8d",
   "metadata": {},
   "outputs": [
    {
     "data": {
      "text/plain": [
       "(388, 10)"
      ]
     },
     "execution_count": 11,
     "metadata": {},
     "output_type": "execute_result"
    }
   ],
   "source": [
    "feature_names=training_df.columns\n",
    "training_df.shape"
   ]
  },
  {
   "cell_type": "markdown",
   "id": "3e19239d",
   "metadata": {},
   "source": [
    "<b>Tabular Explainer<b>"
   ]
  },
  {
   "cell_type": "markdown",
   "id": "34040331",
   "metadata": {},
   "source": [
    "The package **omnixai.preprocessing** provides several useful preprocessing functions for a Tabular instance. TabularTransform is a special transform designed for processing tabular data. By default, it converts categorical features into one-hot encoding, and keeps continuous-valued features. The method transform of TabularTransform transforms a Tabular instance to a numpy array. If the Tabular instance has a target/label column, the last column of the numpy array will be the target/label. After data preprocessing, we train a **XGBoost classifier** for this task."
   ]
  },
  {
   "cell_type": "code",
   "execution_count": 12,
   "id": "097a4495",
   "metadata": {},
   "outputs": [],
   "source": [
    "tabular_data = Tabular(\n",
    "   training_df,\n",
    "   categorical_columns=[feature_names[i] for i in [2, 3, 6, 7, 8]],\n",
    "   target_column='label'\n",
    ")"
   ]
  },
  {
   "cell_type": "code",
   "execution_count": 13,
   "id": "a0171ea4",
   "metadata": {},
   "outputs": [],
   "source": [
    "# Data preprocessing\n",
    "transformer = TabularTransform().fit(tabular_data)\n",
    "class_names = transformer.class_names\n",
    "x = transformer.transform(tabular_data)\n",
    "# Split into training and test datasets\n",
    "train, test, train_labels, test_labels = train_test_split(x[:, :-1], x[:, -1], train_size=0.80)\n",
    "# Train an XGBoost model (the last column of `x` is the label column after transformation)\n",
    "model = XGBClassifier(n_estimators=300, max_depth=5)\n",
    "model.fit(train, train_labels)\n",
    "# Convert the transformed data back to Tabular instances\n",
    "train_data = transformer.invert(train)\n",
    "test_data = transformer.invert(test)"
   ]
  },
  {
   "cell_type": "code",
   "execution_count": 14,
   "id": "065ff144",
   "metadata": {},
   "outputs": [
    {
     "data": {
      "text/plain": [
       "89.74358974358975"
      ]
     },
     "execution_count": 14,
     "metadata": {},
     "output_type": "execute_result"
    }
   ],
   "source": [
    "pred=model.predict(test)\n",
    "accuracy_score(test_labels,pred)*100"
   ]
  },
  {
   "cell_type": "markdown",
   "id": "7d3bfbe5",
   "metadata": {},
   "source": [
    "Here, LIME, SHAP and MACE generate **local explanations** while PDP (partial dependence plot) generates **global explanations**. explainer.explain returns the local explanations generated by the three methods given the test instances, and explainer.explain_global returns the global explanations generated by PDP. TabularExplainer hides all the details behind the explainers, so we can simply call these two methods to generate explanations."
   ]
  },
  {
   "cell_type": "code",
   "execution_count": 15,
   "id": "97446f5c",
   "metadata": {},
   "outputs": [],
   "source": [
    "explainer = TabularExplainer(\n",
    "    explainers = [\"lime\", \"shap\", \"mace\", \"pdp\", \"ale\"],\n",
    "    mode = \"classification\",\n",
    "    data = train_data,\n",
    "    model = model,\n",
    "    preprocess = lambda z: transformer.transform(z)\n",
    "    )"
   ]
  },
  {
   "cell_type": "code",
   "execution_count": 16,
   "id": "9b0ed3ac",
   "metadata": {},
   "outputs": [
    {
     "data": {
      "application/vnd.jupyter.widget-view+json": {
       "model_id": "182d8ff3b45b4f1a851d2061b09bd4fb",
       "version_major": 2,
       "version_minor": 0
      },
      "text/plain": [
       "  0%|          | 0/5 [00:00<?, ?it/s]"
      ]
     },
     "metadata": {},
     "output_type": "display_data"
    }
   ],
   "source": [
    "test_instances = test_data[:5]\n",
    "local_explanations = explainer.explain(X = test_instances)\n",
    "global_explanations = explainer.explain_global(\n",
    "    params = {\"pdp\": {\"features\": [\"item_id\", \"cat_id\", \"merchant_id\", \"action_type\", \n",
    "                                   \"age_range\", \"gender\", \"time_stamp\"]}}\n",
    ")"
   ]
  },
  {
   "cell_type": "markdown",
   "id": "eee4b142",
   "metadata": {},
   "source": [
    "we create a **PredictionAnalyzer** for computing performance metrics for this classification task"
   ]
  },
  {
   "cell_type": "code",
   "execution_count": 17,
   "id": "3fd89e9e",
   "metadata": {},
   "outputs": [],
   "source": [
    "analyzer = PredictionAnalyzer(\n",
    "    mode=\"classification\",\n",
    "    test_data=test_data,                           # The test dataset (a `Tabular` instance)\n",
    "    test_targets=test_labels,                      # The test labels (a numpy array)\n",
    "    model=model,                                   # The ML model\n",
    "    preprocess=lambda z: transformer.transform(z)  # Converts raw features into the model inputs\n",
    ")\n",
    "prediction_explanations = analyzer.explain()"
   ]
  },
  {
   "cell_type": "markdown",
   "id": "19696f14",
   "metadata": {},
   "source": [
    "**OmniXAI Dashboard**"
   ]
  },
  {
   "cell_type": "code",
   "execution_count": null,
   "id": "c829d1a1",
   "metadata": {},
   "outputs": [
    {
     "name": "stdout",
     "output_type": "stream",
     "text": [
      "Dash is running on http://127.0.0.1:8050/\n",
      "\n",
      " * Serving Flask app \"omnixai.visualization.dashboard\" (lazy loading)\n",
      " * Environment: production\n",
      "\u001b[31m   WARNING: This is a development server. Do not use it in a production deployment.\u001b[0m\n",
      "\u001b[2m   Use a production WSGI server instead.\u001b[0m\n",
      " * Debug mode: off\n"
     ]
    },
    {
     "name": "stderr",
     "output_type": "stream",
     "text": [
      " * Running on http://127.0.0.1:8050/ (Press CTRL+C to quit)\n",
      "127.0.0.1 - - [30/Apr/2023 19:29:09] \"GET / HTTP/1.1\" 200 -\n",
      "127.0.0.1 - - [30/Apr/2023 19:29:09] \"GET /_dash-component-suites/dash/dcc/async-graph.js HTTP/1.1\" 304 -\n",
      "127.0.0.1 - - [30/Apr/2023 19:29:09] \"GET /_dash-component-suites/dash/dcc/async-dropdown.js HTTP/1.1\" 304 -\n",
      "127.0.0.1 - - [30/Apr/2023 19:29:09] \"GET /_dash-component-suites/dash/dcc/async-plotlyjs.js HTTP/1.1\" 304 -\n",
      "127.0.0.1 - - [30/Apr/2023 19:29:10] \"GET /_dash-layout HTTP/1.1\" 200 -\n",
      "127.0.0.1 - - [30/Apr/2023 19:29:10] \"GET /_dash-dependencies HTTP/1.1\" 200 -\n",
      "127.0.0.1 - - [30/Apr/2023 19:29:10] \"POST /_dash-update-component HTTP/1.1\" 200 -\n",
      "127.0.0.1 - - [30/Apr/2023 19:29:10] \"POST /_dash-update-component HTTP/1.1\" 200 -\n",
      "127.0.0.1 - - [30/Apr/2023 19:29:10] \"POST /_dash-update-component HTTP/1.1\" 200 -\n",
      "127.0.0.1 - - [30/Apr/2023 19:29:10] \"POST /_dash-update-component HTTP/1.1\" 200 -\n",
      "/Users/ankitraj/opt/anaconda3/lib/python3.9/site-packages/omnixai/explanations/tabular/counterfactual.py:204: SettingWithCopyWarning:\n",
      "\n",
      "\n",
      "A value is trying to be set on a copy of a slice from a DataFrame.\n",
      "Try using .loc[row_indexer,col_indexer] = value instead\n",
      "\n",
      "See the caveats in the documentation: https://pandas.pydata.org/pandas-docs/stable/user_guide/indexing.html#returning-a-view-versus-a-copy\n",
      "\n",
      "127.0.0.1 - - [30/Apr/2023 19:29:26] \"POST /_dash-update-component HTTP/1.1\" 200 -\n",
      "127.0.0.1 - - [30/Apr/2023 19:29:26] \"GET /_dash-component-suites/dash/dash_table/async-highlight.js HTTP/1.1\" 304 -\n",
      "127.0.0.1 - - [30/Apr/2023 19:29:26] \"GET /_dash-component-suites/dash/dash_table/async-table.js HTTP/1.1\" 304 -\n",
      "127.0.0.1 - - [30/Apr/2023 19:29:26] \"POST /_dash-update-component HTTP/1.1\" 200 -\n",
      "/Users/ankitraj/opt/anaconda3/lib/python3.9/site-packages/omnixai/explanations/tabular/counterfactual.py:204: SettingWithCopyWarning:\n",
      "\n",
      "\n",
      "A value is trying to be set on a copy of a slice from a DataFrame.\n",
      "Try using .loc[row_indexer,col_indexer] = value instead\n",
      "\n",
      "See the caveats in the documentation: https://pandas.pydata.org/pandas-docs/stable/user_guide/indexing.html#returning-a-view-versus-a-copy\n",
      "\n",
      "127.0.0.1 - - [30/Apr/2023 19:29:27] \"POST /_dash-update-component HTTP/1.1\" 200 -\n",
      "127.0.0.1 - - [30/Apr/2023 19:32:13] \"POST /_dash-update-component HTTP/1.1\" 200 -\n",
      "127.0.0.1 - - [30/Apr/2023 19:32:13] \"POST /_dash-update-component HTTP/1.1\" 200 -\n",
      "127.0.0.1 - - [30/Apr/2023 19:32:14] \"POST /_dash-update-component HTTP/1.1\" 200 -\n",
      "127.0.0.1 - - [30/Apr/2023 19:34:31] \"GET / HTTP/1.1\" 200 -\n",
      "127.0.0.1 - - [30/Apr/2023 19:34:31] \"GET /_dash-component-suites/dash/dcc/async-graph.js HTTP/1.1\" 304 -\n",
      "127.0.0.1 - - [30/Apr/2023 19:34:31] \"GET /_dash-component-suites/dash/dcc/async-dropdown.js HTTP/1.1\" 304 -\n",
      "127.0.0.1 - - [30/Apr/2023 19:34:31] \"GET /_dash-component-suites/dash/dcc/async-plotlyjs.js HTTP/1.1\" 304 -\n",
      "127.0.0.1 - - [30/Apr/2023 19:34:32] \"GET /_dash-layout HTTP/1.1\" 200 -\n",
      "127.0.0.1 - - [30/Apr/2023 19:34:32] \"GET /_dash-dependencies HTTP/1.1\" 200 -\n",
      "127.0.0.1 - - [30/Apr/2023 19:34:32] \"POST /_dash-update-component HTTP/1.1\" 200 -\n",
      "127.0.0.1 - - [30/Apr/2023 19:34:32] \"POST /_dash-update-component HTTP/1.1\" 200 -\n",
      "127.0.0.1 - - [30/Apr/2023 19:34:32] \"POST /_dash-update-component HTTP/1.1\" 200 -\n",
      "127.0.0.1 - - [30/Apr/2023 19:34:32] \"POST /_dash-update-component HTTP/1.1\" 200 -\n",
      "/Users/ankitraj/opt/anaconda3/lib/python3.9/site-packages/omnixai/explanations/tabular/counterfactual.py:204: SettingWithCopyWarning:\n",
      "\n",
      "\n",
      "A value is trying to be set on a copy of a slice from a DataFrame.\n",
      "Try using .loc[row_indexer,col_indexer] = value instead\n",
      "\n",
      "See the caveats in the documentation: https://pandas.pydata.org/pandas-docs/stable/user_guide/indexing.html#returning-a-view-versus-a-copy\n",
      "\n",
      "127.0.0.1 - - [30/Apr/2023 19:34:39] \"POST /_dash-update-component HTTP/1.1\" 200 -\n",
      "127.0.0.1 - - [30/Apr/2023 19:34:39] \"GET /_dash-component-suites/dash/dash_table/async-highlight.js HTTP/1.1\" 304 -\n",
      "127.0.0.1 - - [30/Apr/2023 19:34:39] \"GET /_dash-component-suites/dash/dash_table/async-table.js HTTP/1.1\" 304 -\n",
      "127.0.0.1 - - [30/Apr/2023 19:34:39] \"POST /_dash-update-component HTTP/1.1\" 200 -\n",
      "/Users/ankitraj/opt/anaconda3/lib/python3.9/site-packages/omnixai/explanations/tabular/counterfactual.py:204: SettingWithCopyWarning:\n",
      "\n",
      "\n",
      "A value is trying to be set on a copy of a slice from a DataFrame.\n",
      "Try using .loc[row_indexer,col_indexer] = value instead\n",
      "\n",
      "See the caveats in the documentation: https://pandas.pydata.org/pandas-docs/stable/user_guide/indexing.html#returning-a-view-versus-a-copy\n",
      "\n",
      "127.0.0.1 - - [30/Apr/2023 19:34:40] \"POST /_dash-update-component HTTP/1.1\" 200 -\n",
      "127.0.0.1 - - [30/Apr/2023 19:35:12] \"POST /_dash-update-component HTTP/1.1\" 200 -\n",
      "127.0.0.1 - - [30/Apr/2023 19:35:12] \"POST /_dash-update-component HTTP/1.1\" 200 -\n",
      "127.0.0.1 - - [30/Apr/2023 19:35:12] \"POST /_dash-update-component HTTP/1.1\" 200 -\n"
     ]
    }
   ],
   "source": [
    "# Launch a dashboard for visualization\n",
    "dashboard = Dashboard(\n",
    "   instances=test_instances,                        # The instances to explain\n",
    "   local_explanations=local_explanations,           # Set the local explanations\n",
    "   global_explanations=global_explanations,         # Set the global explanations\n",
    "   prediction_explanations=prediction_explanations, # Set the prediction metrics\n",
    "   class_names=class_names,                         # Set class names\n",
    "   explainer=explainer                              # The created TabularExplainer for what if analysis\n",
    ")\n",
    "dashboard.show()  "
   ]
  },
  {
   "cell_type": "code",
   "execution_count": null,
   "id": "4de68aa0",
   "metadata": {},
   "outputs": [],
   "source": []
  }
 ],
 "metadata": {
  "kernelspec": {
   "display_name": "Python 3 (ipykernel)",
   "language": "python",
   "name": "python3"
  },
  "language_info": {
   "codemirror_mode": {
    "name": "ipython",
    "version": 3
   },
   "file_extension": ".py",
   "mimetype": "text/x-python",
   "name": "python",
   "nbconvert_exporter": "python",
   "pygments_lexer": "ipython3",
   "version": "3.9.13"
  }
 },
 "nbformat": 4,
 "nbformat_minor": 5
}
